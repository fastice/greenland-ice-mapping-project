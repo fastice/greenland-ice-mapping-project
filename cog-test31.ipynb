{
 "cells": [
  {
   "cell_type": "markdown",
   "metadata": {},
   "source": [
    "# Test performance of NSIDC 0723 COGs\n",
    "\n",
    "Ian test file\n",
    "\n",
    "https://n5eil11u.ecs.nsidc.org/TS1/DP0/MEASURES/NSIDC-0723.199/2020.07.27/GL_S1bks_mosaic_27Jul20_01Aug20_gamma0_50m_v03.1"
   ]
  },
  {
   "cell_type": "code",
   "execution_count": 1,
   "metadata": {},
   "outputs": [],
   "source": [
    "import os"
   ]
  },
  {
   "cell_type": "code",
   "execution_count": null,
   "metadata": {},
   "outputs": [],
   "source": [
    "env = 'GDAL_DISABLE_READDIR_ON_OPEN=EMPTY_DIR GDAL_HTTP_COOKIEFILE=.urs_cookies GDAL_HTTP_COOKIEJAR=.urs_cookies '\n",
    "env += 'GDAL_MAX_RAW_BLOCK_CACHE_SIZE=200000000 GDAL_SWATH_SIZE=200000000 VSI_CURL_CACHE_SIZE=200000000'\n",
    "src = '/vsicurl/https://n5eil11u.ecs.nsidc.org/TS1/DP0/MEASURES/NSIDC-0723.199/2020.07.27/GL_S1bks_mosaic_27Jul20_01Aug20_gamma0_50m_v03.1'\n",
    "dst = os.path.basename(src)+'.tif"
   ]
  },
  {
   "cell_type": "markdown",
   "metadata": {},
   "source": [
    "### GDALINFO"
   ]
  },
  {
   "cell_type": "code",
   "execution_count": 20,
   "metadata": {},
   "outputs": [
    {
     "name": "stdout",
     "output_type": "stream",
     "text": [
      "CPL_VSIL_CURL_CACHE_SIZE=300000000 GDAL_SWATH_SIZE=300000000 GDAL_MAX_RAW_BLOCK_CACHE_SIZE=300000000 GDAL_DISABLE_READDIR_ON_OPEN=EMPTY_DIR GDAL_HTTP_COOKIEFILE=.urs_cookies GDAL_HTTP_COOKIEJAR=.urs_cookies gdalinfo --debug on /vsicurl/https://n5eil11u.ecs.nsidc.org/TS1/DP0/MEASURES/NSIDC-0723.199/2020.07.27/GL_S1bks_mosaic_27Jul20_01Aug20_gamma0_50m_v03.1\n",
      "HTTP: libcurl/7.71.1 OpenSSL/1.1.1h zlib/1.2.11 libssh2/1.9.0 nghttp2/1.41.0\n",
      "VSICURL: GetFileSize(https://n5eil11u.ecs.nsidc.org/TS1/DP0/MEASURES/NSIDC-0723.199/2020.07.27/GL_S1bks_mosaic_27Jul20_01Aug20_gamma0_50m_v03.1)=2331426979  response_code=200\n",
      "VSICURL: Downloading 0-16383 (https://n5eil11u.ecs.nsidc.org/TS1/DP0/MEASURES/NSIDC-0723.199/2020.07.27/GL_S1bks_mosaic_27Jul20_01Aug20_gamma0_50m_v03.1)...\n",
      "VSICURL: Got response_code=206\n",
      "GDAL: GDALOpen(/vsicurl/https://n5eil11u.ecs.nsidc.org/TS1/DP0/MEASURES/NSIDC-0723.199/2020.07.27/GL_S1bks_mosaic_27Jul20_01Aug20_gamma0_50m_v03.1, this=0x7fd415f531d0) succeeds as GTiff.\n",
      "Driver: GTiff/GeoTIFF\n",
      "GDAL: GDALDefaultOverviews::OverviewScan()\n",
      "Files: /vsicurl/https://n5eil11u.ecs.nsidc.org/TS1/DP0/MEASURES/NSIDC-0723.199/2020.07.27/GL_S1bks_mosaic_27Jul20_01Aug20_gamma0_50m_v03.1\n",
      "Size is 29520, 53220\n",
      "Coordinate System is:\n",
      "PROJCRS[\"WGS 84 / NSIDC Sea Ice Polar Stereographic North\",\n",
      "    BASEGEOGCRS[\"WGS 84\",\n",
      "        DATUM[\"World Geodetic System 1984\",\n",
      "            ELLIPSOID[\"WGS 84\",6378137,298.257223563,\n",
      "                LENGTHUNIT[\"metre\",1]]],\n",
      "        PRIMEM[\"Greenwich\",0,\n",
      "            ANGLEUNIT[\"degree\",0.0174532925199433]],\n",
      "        ID[\"EPSG\",4326]],\n",
      "    CONVERSION[\"US NSIDC Sea Ice polar stereographic north\",\n",
      "        METHOD[\"Polar Stereographic (variant B)\",\n",
      "            ID[\"EPSG\",9829]],\n",
      "        PARAMETER[\"Latitude of standard parallel\",70,\n",
      "            ANGLEUNIT[\"degree\",0.0174532925199433],\n",
      "            ID[\"EPSG\",8832]],\n",
      "        PARAMETER[\"Longitude of origin\",-45,\n",
      "            ANGLEUNIT[\"degree\",0.0174532925199433],\n",
      "            ID[\"EPSG\",8833]],\n",
      "        PARAMETER[\"False easting\",0,\n",
      "            LENGTHUNIT[\"metre\",1],\n",
      "            ID[\"EPSG\",8806]],\n",
      "        PARAMETER[\"False northing\",0,\n",
      "            LENGTHUNIT[\"metre\",1],\n",
      "            ID[\"EPSG\",8807]]],\n",
      "    CS[Cartesian,2],\n",
      "        AXIS[\"easting (X)\",south,\n",
      "            MERIDIAN[45,\n",
      "                ANGLEUNIT[\"degree\",0.0174532925199433]],\n",
      "            ORDER[1],\n",
      "            LENGTHUNIT[\"metre\",1]],\n",
      "        AXIS[\"northing (Y)\",south,\n",
      "            MERIDIAN[135,\n",
      "                ANGLEUNIT[\"degree\",0.0174532925199433]],\n",
      "            ORDER[2],\n",
      "            LENGTHUNIT[\"metre\",1]],\n",
      "    USAGE[\n",
      "        SCOPE[\"unknown\"],\n",
      "        AREA[\"World - N hemisphere - north of 60°N\"],\n",
      "        BBOX[60,-180,90,180]],\n",
      "    ID[\"EPSG\",3413]]\n",
      "Data axis to CRS axis mapping: 1,2\n",
      "Origin = (-626000.000000000000000,-695000.000000000000000)\n",
      "Pixel Size = (50.000000000000000,-50.000000000000000)\n",
      "Metadata:\n",
      "  AREA_OR_POINT=Area\n",
      "Image Structure Metadata:\n",
      "  COMPRESSION=DEFLATE\n",
      "  INTERLEAVE=BAND\n",
      "  LAYOUT=COG\n",
      "GTiff: ScanDirectories()\n",
      "GTiff: Opened 14760x26610 overview.\n",
      "GTiff: Opened 7380x13305 overview.\n",
      "GTiff: Opened 3690x6653 overview.\n",
      "GTiff: Opened 1845x3327 overview.\n",
      "GTiff: Opened 923x1664 overview.\n",
      "GTiff: Opened 462x832 overview.\n",
      "GTiff: Opened 231x416 overview.\n",
      "Corner Coordinates:\n",
      "Upper Left  ( -626000.000, -695000.000) ( 87d 0'35.92\"W, 81d22'51.77\"N)\n",
      "Lower Left  ( -626000.000,-3356000.000) ( 55d33'57.76\"W, 59d13' 4.68\"N)\n",
      "Upper Right (  850000.000, -695000.000) (  5d43'44.22\"E, 79d53'22.71\"N)\n",
      "Lower Right (  850000.000,-3356000.000) ( 30d47'13.71\"W, 58d48'16.66\"N)\n",
      "Center      (  112000.000,-2025500.000) ( 41d50' 6.19\"W, 71d25'52.18\"N)\n",
      "Band 1 Block=512x512 Type=Float32, ColorInterp=Gray\n",
      "  Min=-29.990 Max=29.340 \n",
      "  Minimum=-29.990, Maximum=29.340, Mean=-11.085, StdDev=7.486\n",
      "  NoData Value=-30\n",
      "  Overviews: 14760x26610, 7380x13305, 3690x6653, 1845x3327, 923x1664, 462x832, 231x416\n",
      "  Metadata:\n",
      "    STATISTICS_MAXIMUM=29.340000152588\n",
      "    STATISTICS_MEAN=-11.084930857467\n",
      "    STATISTICS_MINIMUM=-29.989999771118\n",
      "    STATISTICS_STDDEV=7.4856348850097\n",
      "    STATISTICS_VALID_PERCENT=50.74\n",
      "GDAL: GDALClose(/vsicurl/https://n5eil11u.ecs.nsidc.org/TS1/DP0/MEASURES/NSIDC-0723.199/2020.07.27/GL_S1bks_mosaic_27Jul20_01Aug20_gamma0_50m_v03.1, this=0x7fd415f531d0)\n"
     ]
    }
   ],
   "source": [
    "cmd = f'{env} gdalinfo --debug on {src}'\n",
    "print(cmd)\n",
    "!{cmd}"
   ]
  },
  {
   "cell_type": "markdown",
   "metadata": {},
   "source": [
    "### GDALWARP"
   ]
  },
  {
   "cell_type": "code",
   "execution_count": 14,
   "metadata": {},
   "outputs": [
    {
     "name": "stdout",
     "output_type": "stream",
     "text": [
      "GDAL_DISABLE_READDIR_ON_OPEN=EMPTY_DIR GDAL_HTTP_COOKIEFILE=.urs_cookies GDAL_HTTP_COOKIEJAR=.urs_cookies GDAL_MAX_RAW_BLOCK_CACHE_SIZE=200000000 GDAL_SWATH_SIZE=200000000 VSI_CURL_CACHE_SIZE=200000000 gdalwarp --debug on -overwrite -t_srs EPSG:4326 -te -54.85 69.31 -52.18 70.26 /vsicurl/https://n5eil11u.ecs.nsidc.org/TS1/DP0/MEASURES/NSIDC-0723.199/2020.07.27/GL_S1bks_mosaic_27Jul20_01Aug20_gamma0_50m_v03.1 GL_S1bks_mosaic_27Jul20_01Aug20_gamma0_50m_v03.1.tif 2>gdalwarp.log 1>gdalwarp.out\n"
     ]
    }
   ],
   "source": [
    "# GDALWARP 3.1 AWS\n",
    "cmd = f'{env} gdalwarp --debug on -overwrite -t_srs EPSG:4326 -te -54.85 69.31 -52.18 70.26 {src} {dst} 2>gdalwarp.log 1>gdalwarp.out'\n",
    "print(cmd)\n",
    "!{cmd}"
   ]
  },
  {
   "cell_type": "code",
   "execution_count": 15,
   "metadata": {},
   "outputs": [
    {
     "name": "stdout",
     "output_type": "stream",
     "text": [
      "       7      28    1183\n"
     ]
    }
   ],
   "source": [
    "# Network requests\n",
    "!grep Downloading gdalwarp.log | wc"
   ]
  },
  {
   "cell_type": "markdown",
   "metadata": {},
   "source": [
    "### GDALTRANSLATE\n",
    "\n",
    "(getting 1 512x512 tile from a COG should be 2 GET requests (1 for header, 1 for data)"
   ]
  },
  {
   "cell_type": "code",
   "execution_count": 16,
   "metadata": {},
   "outputs": [
    {
     "name": "stdout",
     "output_type": "stream",
     "text": [
      "GDAL_DISABLE_READDIR_ON_OPEN=EMPTY_DIR GDAL_HTTP_COOKIEFILE=.urs_cookies GDAL_HTTP_COOKIEJAR=.urs_cookies GDAL_MAX_RAW_BLOCK_CACHE_SIZE=200000000 GDAL_SWATH_SIZE=200000000 VSI_CURL_CACHE_SIZE=200000000 gdal_translate --debug on -srcwin 0 0 512 512 /vsicurl/https://n5eil11u.ecs.nsidc.org/TS1/DP0/MEASURES/NSIDC-0723.199/2020.07.27/GL_S1bks_mosaic_27Jul20_01Aug20_gamma0_50m_v03.1 GL_S1bks_mosaic_27Jul20_01Aug20_gamma0_50m_v03.1.tif 2>gdaltranslate.log 1>gdaltranslate.out\n"
     ]
    }
   ],
   "source": [
    "cmd = f'{env} gdal_translate --debug on -srcwin 0 0 512 512 {src} {dst} 2>gdaltranslate.log 1>gdaltranslate.out'\n",
    "print(cmd)\n",
    "!{cmd}"
   ]
  },
  {
   "cell_type": "code",
   "execution_count": 17,
   "metadata": {},
   "outputs": [
    {
     "name": "stdout",
     "output_type": "stream",
     "text": [
      "       2       8     326\n"
     ]
    }
   ],
   "source": [
    "!grep Downloading gdaltranslate.log | wc"
   ]
  },
  {
   "cell_type": "code",
   "execution_count": 18,
   "metadata": {},
   "outputs": [
    {
     "name": "stdout",
     "output_type": "stream",
     "text": [
      "CPL_VSIL_CURL_CACHE_SIZE=300000000 GDAL_SWATH_SIZE=300000000 GDAL_MAX_RAW_BLOCK_CACHE_SIZE=300000000 GDAL_DISABLE_READDIR_ON_OPEN=EMPTY_DIR GDAL_HTTP_COOKIEFILE=.urs_cookies GDAL_HTTP_COOKIEJAR=.urs_cookies gdal_translate --debug on -srcwin 0 0 29520 2560 /vsicurl/https://n5eil11u.ecs.nsidc.org/TS1/DP0/MEASURES/NSIDC-0723.199/2020.07.27/GL_S1bks_mosaic_27Jul20_01Aug20_gamma0_50m_v03.1 subset.tif 2>row.log 1>row.out\n"
     ]
    }
   ],
   "source": [
    "# try to retrive >10MB woth of pixels from 29520x53220 file\n",
    "# first 5 row tiles ~288MB *uncompressed**\n",
    "# http://osgeo-org.1560.x6.nabble.com/gdal-dev-gdalwarp-doesn-t-use-the-VSIL-curl-cache-td5391617.html\n",
    "# can also use VSI_CACHE_SIZE and VSI_CACHE=FALSE\n",
    "#GDAL_MAX_RAW_BLOCK_CACHE_SIZE=300000000 (300MB)\n",
    "# GDAL_MAX_RAW_BLOCK_CACHE_SIZE=100000000 (100MB)\n",
    "#In addition, a global least-recently-used cache of 16 MB\n",
    "# CPL_VSIL_CURL_CACHE_SIZE=160000000 #default 16MB\n",
    "\n",
    "# NOTE thes swath sizes and cache sizes must match **uncompressed** raster size\n",
    "nrows = 512*5\n",
    "env = 'CPL_VSIL_CURL_CACHE_SIZE=300000000 GDAL_SWATH_SIZE=300000000 GDAL_MAX_RAW_BLOCK_CACHE_SIZE=300000000 GDAL_DISABLE_READDIR_ON_OPEN=EMPTY_DIR GDAL_HTTP_COOKIEFILE=.urs_cookies GDAL_HTTP_COOKIEJAR=.urs_cookies'\n",
    "dst = 'subset.tif'\n",
    "cmd = f'{env} gdal_translate --debug on -srcwin 0 0 29520 {nrows} {src} {dst} 2>row.log 1>row.out'\n",
    "print(cmd)\n",
    "!{cmd}"
   ]
  },
  {
   "cell_type": "code",
   "execution_count": 19,
   "metadata": {},
   "outputs": [
    {
     "name": "stdout",
     "output_type": "stream",
     "text": [
      "       2       8     326\n"
     ]
    }
   ],
   "source": [
    "!grep Downloading row.log | wc"
   ]
  },
  {
   "cell_type": "code",
   "execution_count": 24,
   "metadata": {},
   "outputs": [
    {
     "name": "stdout",
     "output_type": "stream",
     "text": [
      "--2020-12-16 11:46:50--  https://n5eil11u.ecs.nsidc.org/TS1/DP0/MEASURES/NSIDC-0723.199/2020.07.27/GL_S1bks_mosaic_27Jul20_01Aug20_gamma0_50m_v03.1\n",
      "Resolving n5eil11u.ecs.nsidc.org (n5eil11u.ecs.nsidc.org)... 128.138.97.101\n",
      "Connecting to n5eil11u.ecs.nsidc.org (n5eil11u.ecs.nsidc.org)|128.138.97.101|:443... connected.\n",
      "HTTP request sent, awaiting response... 302 Found\n",
      "Location: https://uat.urs.earthdata.nasa.gov/oauth/authorize?client_id=tiXkwDPzAkY1Xw55KBZeIw&response_type=code&redirect_uri=https%3A%2F%2Fn5eil11u.ecs.nsidc.org%2FTS1_redirect&state=aHR0cDovL241ZWlsMTF1LmVjcy5uc2lkYy5vcmcvVFMxL0RQMC9NRUFTVVJFUy9OU0lEQy0wNzIzLjE5OS8yMDIwLjA3LjI3L0dMX1MxYmtzX21vc2FpY18yN0p1bDIwXzAxQXVnMjBfZ2FtbWEwXzUwbV92MDMuMQ [following]\n",
      "--2020-12-16 11:46:50--  https://uat.urs.earthdata.nasa.gov/oauth/authorize?client_id=tiXkwDPzAkY1Xw55KBZeIw&response_type=code&redirect_uri=https%3A%2F%2Fn5eil11u.ecs.nsidc.org%2FTS1_redirect&state=aHR0cDovL241ZWlsMTF1LmVjcy5uc2lkYy5vcmcvVFMxL0RQMC9NRUFTVVJFUy9OU0lEQy0wNzIzLjE5OS8yMDIwLjA3LjI3L0dMX1MxYmtzX21vc2FpY18yN0p1bDIwXzAxQXVnMjBfZ2FtbWEwXzUwbV92MDMuMQ\n",
      "Resolving uat.urs.earthdata.nasa.gov (uat.urs.earthdata.nasa.gov)... 198.118.243.34\n",
      "Connecting to uat.urs.earthdata.nasa.gov (uat.urs.earthdata.nasa.gov)|198.118.243.34|:443... connected.\n",
      "HTTP request sent, awaiting response... 200 OK\n",
      "Length: unspecified [text/html]\n",
      "Saving to: ‘GL_S1bks_mosaic_27Jul20_01Aug20_gamma0_50m_v03.1’\n",
      "\n",
      "GL_S1bks_mosaic_27J     [ <=>                ]  12.47K  --.-KB/s    in 0.08s   \n",
      "\n",
      "2020-12-16 11:46:50 (154 KB/s) - ‘GL_S1bks_mosaic_27Jul20_01Aug20_gamma0_50m_v03.1’ saved [12773]\n",
      "\n",
      "CPU times: user 17.2 ms, sys: 11.2 ms, total: 28.4 ms\n",
      "Wall time: 717 ms\n"
     ]
    }
   ],
   "source": [
    "#%%time\n",
    "# Time to download on home ethernet\n",
    "#!curl -O -b ~/.urs_cookies -c ~/.urs_cookies -L -n https://n5eil11u.ecs.nsidc.org/TS1/DP0/MEASURES/NSIDC-0723.199/2020.07.27/GL_S1bks_mosaic_27Jul20_01Aug20_gamma0_50m_v03.1\n",
    "\n",
    "# 1.9MB/s --> "
   ]
  },
  {
   "cell_type": "code",
   "execution_count": null,
   "metadata": {},
   "outputs": [],
   "source": []
  }
 ],
 "metadata": {
  "kernelspec": {
   "display_name": "Python 3",
   "language": "python",
   "name": "python3"
  },
  "language_info": {
   "codemirror_mode": {
    "name": "ipython",
    "version": 3
   },
   "file_extension": ".py",
   "mimetype": "text/x-python",
   "name": "python",
   "nbconvert_exporter": "python",
   "pygments_lexer": "ipython3",
   "version": "3.7.8"
  }
 },
 "nbformat": 4,
 "nbformat_minor": 4
}
