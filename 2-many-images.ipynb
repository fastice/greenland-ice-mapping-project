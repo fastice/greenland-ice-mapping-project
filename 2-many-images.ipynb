{
 "cells": [
  {
   "cell_type": "markdown",
   "metadata": {},
   "source": [
    "# Working with many files\n",
    "\n",
    "In `1-singlefile.ipynb` we learned how to extract subsets and reproject a single image using a variety of tools (GDAL, rasterio, xarray, rioxarray, and holoviz). Often you want to work with a whole stack of imagery - for example let's see how to create a timeseries of backscatter over [Jakobshavn_Glacier](https://en.wikipedia.org/wiki/Jakobshavn_Glacier).\n",
    "\n",
    "GDAL VRT (Virtual Dataset) files are useful to construct mosaics or sets of multiband imagery https://gdal.org/programs/gdalbuildvrt.html. We first need to take our file list and append GDAL's `/vsicurl/` prefix to all the file names"
   ]
  },
  {
   "cell_type": "code",
   "execution_count": null,
   "metadata": {},
   "outputs": [],
   "source": [
    "import os"
   ]
  },
  {
   "cell_type": "code",
   "execution_count": null,
   "metadata": {},
   "outputs": [],
   "source": [
    "!head -n 2 gamma0.txt"
   ]
  },
  {
   "cell_type": "code",
   "execution_count": null,
   "metadata": {},
   "outputs": [],
   "source": [
    "output = 'vrt-list.txt'\n",
    "\n",
    "with open('gamma0.txt', 'r') as f:\n",
    "    gammas = f.readlines()\n",
    "    vsis = ['/vsicurl/' + line for line in gammas]\n",
    "    files = [os.path.basename(line) for line in gammas]\n",
    "    print(f'Saving {len(vsis)} URLs to file list...')\n",
    "    with open(output, 'w') as v:\n",
    "        v.writelines(vsis)\n",
    "\n",
    "!head -n 2 vrt-list.txt"
   ]
  },
  {
   "cell_type": "code",
   "execution_count": null,
   "metadata": {},
   "outputs": [],
   "source": [
    "# Step1, create a GDAL 'VRT' file that lists everything we'd like to work with:\n",
    "env_vars = 'GDAL_DISABLE_READDIR_ON_OPEN=EMPTY_DIR GDAL_HTTP_COOKIEFILE=.urs_cookies GDAL_HTTP_COOKIEJAR=.urs_cookies'\n",
    "cog = gammas[1]\n",
    "cmd = f'{env_vars} gdalbuildvrt -overwrite -allow_projection_difference -separate -input_file_list {output} stack_gamma0.vrt '\n",
    "print(cmd)"
   ]
  },
  {
   "cell_type": "code",
   "execution_count": null,
   "metadata": {},
   "outputs": [],
   "source": [
    "#%%time \n",
    "# this takes ~1min, b/c every file CRS is checked and reprojected if necessary\n",
    "#!{cmd}"
   ]
  },
  {
   "cell_type": "code",
   "execution_count": null,
   "metadata": {},
   "outputs": [],
   "source": [
    "# it's helpful to add the filename to the description for each band. you can do this with rasterio\n",
    "import rasterio\n",
    "\n",
    "# An alternative to using rasterio.Env() is to set global environment variables:\n",
    "os.environ['GDAL_DISABLE_READDIR_ON_OPEN']='EMPTY_DIR'\n",
    "os.environ['GDAL_HTTP_COOKIEFILE']='.urs_cookies' \n",
    "os.environ['GDAL_HTTP_COOKIEJAR']='.urs_cookies'\n",
    "\n",
    "\n",
    "with rasterio.open('stack_gamma0.vrt', 'r+') as src:\n",
    "    print(src.profile)\n",
    "    src.descriptions = files"
   ]
  },
  {
   "cell_type": "code",
   "execution_count": null,
   "metadata": {},
   "outputs": [],
   "source": [
    "# Open the VRT with xarray (this is very fast b/c only metadata is read!)\n",
    "import xarray as xr\n",
    "da = xr.open_rasterio('stack_gamma0.vrt', chunks=dict(band=1, x=532200, y=512)) #ensure data loaded as dask arrays\n",
    "da.data"
   ]
  },
  {
   "cell_type": "code",
   "execution_count": null,
   "metadata": {},
   "outputs": [],
   "source": [
    "print(f'Total uncompressed dataset size= {da.nbytes/1e12} TB')"
   ]
  },
  {
   "cell_type": "code",
   "execution_count": null,
   "metadata": {},
   "outputs": [],
   "source": [
    "# Assign a time coordinate instead of integer band\n",
    "#import pandas as pd\n",
    "#dates = [url.split('/')[-2] for url in gammas]\n",
    "#print(dates[:2])\n",
    "\n",
    "#datetimes = [pd.to_datetime(x) for x in dates]\n",
    "#datetimes[:2]"
   ]
  },
  {
   "cell_type": "code",
   "execution_count": null,
   "metadata": {},
   "outputs": [],
   "source": [
    "# make 'time' active coordinate instead of integer band\n",
    "#da = da.assign_coords(time=('band', datetimes))\n",
    "#da = da.swap_dims({'band':'time'})\n",
    "#da.name = 'gamma0'\n",
    "#da"
   ]
  },
  {
   "cell_type": "code",
   "execution_count": null,
   "metadata": {},
   "outputs": [],
   "source": [
    "# Bounding box of interest \n",
    "# draw on here: http://geojson.io/\n",
    "import geopandas as gpd\n",
    "import hvplot.pandas\n",
    "gf = gpd.read_file('jakobshavn.geojson')\n",
    "bbox = gf.hvplot.polygons(alpha=0.2, geo=True, tiles=True)\n",
    "bbox"
   ]
  },
  {
   "cell_type": "code",
   "execution_count": null,
   "metadata": {},
   "outputs": [],
   "source": [
    "# convert our bounding box to epsg:3413 (south polar sterographic)\n",
    "# NOTE: miny and maxy are switched here...\n",
    "gf3413 = gf.to_crs(3413)\n",
    "gf3413.bounds"
   ]
  },
  {
   "cell_type": "code",
   "execution_count": null,
   "metadata": {},
   "outputs": [],
   "source": [
    "xmin, ymax, xmax, ymin = gf3413.bounds.values[0]"
   ]
  },
  {
   "cell_type": "code",
   "execution_count": null,
   "metadata": {},
   "outputs": [],
   "source": [
    "# Now extract that subset from all the GIMP data\n",
    "import hvplot.xarray\n",
    "subset = da.sel(x=slice(xmin, xmax), y=slice(ymin, ymax))\n",
    "subset.data"
   ]
  },
  {
   "cell_type": "code",
   "execution_count": null,
   "metadata": {},
   "outputs": [],
   "source": [
    "print(f'Subset uncompressed dataset size= {subset.nbytes/1e9} GB')"
   ]
  },
  {
   "cell_type": "code",
   "execution_count": null,
   "metadata": {},
   "outputs": [],
   "source": [
    "%%time \n",
    "# We can hold 6GB of data in memory, so let's do that to make plotting faster\n",
    "\n",
    "# subset.persist() # RasterioIOError: Read or write failed. HTTP response code: 503\n",
    "#ds = subset.compute() # RasterioIOError: Read or write failed. Request for 1524742125-1525203366 failed\n",
    "\n",
    "\n",
    "# seems like lots of trouble reading these geotiffs"
   ]
  },
  {
   "cell_type": "code",
   "execution_count": null,
   "metadata": {},
   "outputs": [],
   "source": [
    "# Let's just try saving data to a local netcdf\n",
    "# more network errors...\n",
    "#subset.to_netcdf('mysubset.nc')"
   ]
  },
  {
   "cell_type": "code",
   "execution_count": null,
   "metadata": {},
   "outputs": [],
   "source": [
    "#subset.hvplot.image(rasterize=True, dynamic=True, frame_width=400, aspect='equal', cmap='gray')\n",
    "# occaisional network error: RasterioIOError: Read or write failed. /vsicurl/https://n5eil01u.ecs.nsidc.org/DP4/MEASURES/NSIDC-0723.003/2015.01.01/GL_S1bks_mosaic_01Jan15_12Jan15_gamma0_50m_v03.0.tif, band 1: IReadBlock failed at X offset 14, Y offset 61: TIFFReadEncodedTile() failed."
   ]
  },
  {
   "cell_type": "code",
   "execution_count": null,
   "metadata": {},
   "outputs": [],
   "source": [
    "#%%time \n",
    "\n",
    "# if 'time' is default coordinate\n",
    "# WARNING:param.Image03243: Image dimension time is  not evenly sampled to relative tolerance of 0.001. Please use the QuadMesh element for irregularly sampled data or set a higher tolerance on hv.config.image_rtol or the rtol parameter in the Image constructor.\n",
    "# UFuncTypeError: ufunc 'true_divide' cannot use operands with types dtype('float64') and dtype('<m8[ns]')\n",
    "# something weird with time\n",
    "\n",
    "\n",
    "# Plot just the subset (? does this still read the entire file rather than just an overview)\n",
    "#subset.hvplot.image(rasterize=True, dynamic=True, frame_width=400, aspect='equal', cmap='gray')"
   ]
  },
  {
   "cell_type": "code",
   "execution_count": null,
   "metadata": {},
   "outputs": [],
   "source": []
  }
 ],
 "metadata": {
  "kernelspec": {
   "display_name": "Python 3",
   "language": "python",
   "name": "python3"
  },
  "language_info": {
   "codemirror_mode": {
    "name": "ipython",
    "version": 3
   },
   "file_extension": ".py",
   "mimetype": "text/x-python",
   "name": "python",
   "nbconvert_exporter": "python",
   "pygments_lexer": "ipython3",
   "version": "3.8.6"
  }
 },
 "nbformat": 4,
 "nbformat_minor": 4
}
