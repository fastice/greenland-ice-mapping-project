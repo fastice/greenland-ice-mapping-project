{
 "cells": [
  {
   "cell_type": "markdown",
   "metadata": {},
   "source": [
    "# Test performance of NSIDC 0723 COGs"
   ]
  },
  {
   "cell_type": "code",
   "execution_count": 2,
   "metadata": {},
   "outputs": [],
   "source": [
    "# 1) get list of 10 COGS for testing\n",
    "cog_urls = ''' \n",
    "https://n5eil01u.ecs.nsidc.org/DP4/MEASURES/NSIDC-0723.003/2019.12.30/GL_S1bks_mosaic_30Dec19_04Jan20_gamma0_50m_v03.0.tif\n",
    "https://n5eil01u.ecs.nsidc.org/DP4/MEASURES/NSIDC-0723.003/2020.01.05/GL_S1bks_mosaic_05Jan20_10Jan20_gamma0_50m_v03.0.tif\n",
    "https://n5eil01u.ecs.nsidc.org/DP4/MEASURES/NSIDC-0723.003/2020.01.11/GL_S1bks_mosaic_11Jan20_16Jan20_gamma0_50m_v03.0.tif\n",
    "https://n5eil01u.ecs.nsidc.org/DP4/MEASURES/NSIDC-0723.003/2020.01.17/GL_S1bks_mosaic_17Jan20_22Jan20_gamma0_50m_v03.0.tif\n",
    "https://n5eil01u.ecs.nsidc.org/DP4/MEASURES/NSIDC-0723.003/2020.01.23/GL_S1bks_mosaic_23Jan20_28Jan20_gamma0_50m_v03.0.tif\n",
    "https://n5eil01u.ecs.nsidc.org/DP4/MEASURES/NSIDC-0723.003/2020.01.29/GL_S1bks_mosaic_29Jan20_03Feb20_gamma0_50m_v03.0.tif\n",
    "https://n5eil01u.ecs.nsidc.org/DP4/MEASURES/NSIDC-0723.003/2020.02.04/GL_S1bks_mosaic_04Feb20_09Feb20_gamma0_50m_v03.0.tif\n",
    "https://n5eil01u.ecs.nsidc.org/DP4/MEASURES/NSIDC-0723.003/2020.02.10/GL_S1bks_mosaic_10Feb20_15Feb20_gamma0_50m_v03.0.tif\n",
    "https://n5eil01u.ecs.nsidc.org/DP4/MEASURES/NSIDC-0723.003/2020.02.16/GL_S1bks_mosaic_16Feb20_21Feb20_gamma0_50m_v03.0.tif\n",
    "https://n5eil01u.ecs.nsidc.org/DP4/MEASURES/NSIDC-0723.003/2020.02.22/GL_S1bks_mosaic_22Feb20_27Feb20_gamma0_50m_v03.0.tif            \n",
    "'''\n",
    "cogs = list(cog_urls.split())"
   ]
  },
  {
   "cell_type": "code",
   "execution_count": 3,
   "metadata": {},
   "outputs": [],
   "source": [
    "import os\n",
    "os.environ['GDAL_HTTP_COOKIEFILE']='.urs_cookies' \n",
    "os.environ['GDAL_HTTP_COOKIEJAR']='.urs_cookies'\n",
    "os.environ['GDAL_DISABLE_READDIR_ON_OPEN']='EMPTY_DIR'\n",
    "os.environ['CPL_CURL_VERBOSE']='NO'"
   ]
  },
  {
   "cell_type": "code",
   "execution_count": null,
   "metadata": {},
   "outputs": [],
   "source": [
    "#check cog is valid\n",
    "%run validate_cloud_optimized_geotiff.py /vsicurl/{url}"
   ]
  },
  {
   "cell_type": "markdown",
   "metadata": {},
   "source": [
    "### GDALINFO"
   ]
  },
  {
   "cell_type": "code",
   "execution_count": null,
   "metadata": {},
   "outputs": [],
   "source": [
    "%%time\n",
    "# gdalinfo should only require 1 GET request for header:\n",
    "url = cogs[0]\n",
    "cmd = f'gdalinfo --debug on /vsicurl/{url} 2>gdal.log 1>gdal.out'\n",
    "print(cmd)\n",
    "!{cmd}"
   ]
  },
  {
   "cell_type": "code",
   "execution_count": null,
   "metadata": {},
   "outputs": [],
   "source": [
    "!grep Downloading gdal.log | wc\n",
    "!grep Downloading gdal.log"
   ]
  },
  {
   "cell_type": "code",
   "execution_count": null,
   "metadata": {},
   "outputs": [],
   "source": [
    "%%time\n",
    "# similarly, requesting the first tile of data should be a single GET request:\n",
    "# following https://trac.osgeo.org/gdal/wiki/CloudOptimizedGeoTIFF\n",
    "cmd = f'gdal_translate --debug on /vsicurl/{url} -srcwin 1024 1024 256 256 out.tif 2>gdal.log 1>gdal.out'\n",
    "print(cmd)\n",
    "!{cmd}"
   ]
  },
  {
   "cell_type": "code",
   "execution_count": null,
   "metadata": {},
   "outputs": [],
   "source": [
    "!grep Downloading gdal.log | wc\n",
    "!grep Downloading gdal.log"
   ]
  },
  {
   "cell_type": "markdown",
   "metadata": {},
   "source": [
    "#### Reconvert to COG and put on S3\n",
    "https://gdal.org/drivers/raster/cog.html\n",
    "\n",
    "`gdal_translate -of COG` will lead to the following changes (requires GDAL>3.1)\n",
    "\n",
    "1. increase geotiff version 1.0 -> 1.1 (approved nasa standard https://earthdata.nasa.gov/esdis/eso/standards-and-references/geotiff)\n",
    "1. make overviews 512x512 tiling (currently only main image is 512, overviews are 128x128)\n",
    "1. BIGTIFF=NO, currently all images are <4 Gb so BIGTIFF is not needed\n",
    "1. Ensure all IFD headers are before data (this was not a strict requirement in past, adds flags LAYOUT=IFDS_BEFORE_DATA and LAYOUT=COG in tif metadata to ensure efficient network reads)\n",
    "\n"
   ]
  },
  {
   "cell_type": "code",
   "execution_count": null,
   "metadata": {},
   "outputs": [],
   "source": [
    "!gdalinfo --version"
   ]
  },
  {
   "cell_type": "code",
   "execution_count": null,
   "metadata": {},
   "outputs": [],
   "source": [
    "#%%time\n",
    "# NOTE: when operating on entire files, generally better to download to local disk then translate it)\n",
    "# taking 9+ min, probably due to GDAL_CACHE sizes,\n",
    "# see http://osgeo-org.1560.x6.nabble.com/gdal-dev-optimal-vsicurl-settings-for-merging-range-requests-td5389484.html\n",
    "\n",
    "#output = os.path.basename(url).replace('v03.0', 'v03.1')\n",
    "#options = '-co COMPRESS=DEFLATE -co GEOTIFF_VERSION=1.1 -co BIGTIFF=NO'\n",
    "#cmd = f'gdal_translate -of COG /vsicurl/{url} {output} 2>gdal.log 1>gdal.out'\n",
    "#print(cmd)\n",
    "#!{cmd}"
   ]
  },
  {
   "cell_type": "code",
   "execution_count": null,
   "metadata": {},
   "outputs": [],
   "source": [
    "%%time\n",
    "\n",
    "cmd = f'wget -q {url}'\n",
    "print(cmd)\n",
    "!{cmd}"
   ]
  },
  {
   "cell_type": "code",
   "execution_count": null,
   "metadata": {},
   "outputs": [],
   "source": [
    "# Some command line tools for detailed COG information\n",
    "# NOTE this gives a good summary and prints IFD byte offsets - 0x10 (16) for first\n",
    "#!tiffinfo GL_S1bks_mosaic_30Dec19_04Jan20_gamma0_50m_v03.0.tif\n",
    "#GeoTiffs in particular \n",
    "#!listgeo GL_S1bks_mosaic_30Dec19_04Jan20_gamma0_50m_v03.0.tif"
   ]
  },
  {
   "cell_type": "code",
   "execution_count": null,
   "metadata": {},
   "outputs": [],
   "source": [
    "%%time\n",
    "\n",
    "filename = os.path.basename(url)\n",
    "output = filename.replace('v03.0', 'v03.1')\n",
    "options = '-co COMPRESS=DEFLATE -co GEOTIFF_VERSION=1.1 -co BIGTIFF=NO'\n",
    "cmd = f'gdal_translate {options} -of COG {filename} {output} 2>gdal.log 1>gdal.out'\n",
    "print(cmd)\n",
    "!{cmd}"
   ]
  },
  {
   "cell_type": "code",
   "execution_count": null,
   "metadata": {},
   "outputs": [],
   "source": [
    "# Convert full list of COGs\n",
    "for url in cogs:\n",
    "    os.system(f'wget {url}')\n",
    "    filename = os.path.basename(url)\n",
    "    output = filename.replace('v03.0', 'v03.1')\n",
    "    options = '-co COMPRESS=DEFLATE -co GEOTIFF_VERSION=1.1 -co BIGTIFF=NO'\n",
    "    cmd = f'gdal_translate {options} -of COG {filename} {output} 2>gdal.log 1>gdal.out'\n",
    "    print(cmd)\n",
    "    !{cmd}   "
   ]
  },
  {
   "cell_type": "code",
   "execution_count": null,
   "metadata": {},
   "outputs": [],
   "source": [
    "%%time\n",
    "\n",
    "#upload the file to S3\n",
    "cmd = f'aws s3 cp {output} s3://my-cog-server/'\n",
    "print(cmd)\n",
    "!{cmd}"
   ]
  },
  {
   "cell_type": "markdown",
   "metadata": {},
   "source": [
    "### GDALWARP"
   ]
  },
  {
   "cell_type": "code",
   "execution_count": null,
   "metadata": {},
   "outputs": [],
   "source": [
    "# GDALWARP test NSIDC\n",
    "# lots of GET requests and download errors\n",
    "# actualy increases number off nsidc?! GDAL_MAX_RAW_BLOCK_CACHE_SIZE=120000000 \n",
    "#env = 'GDAL_DISABLE_READDIR_ON_OPEN=EMPTY_DIR GDAL_HTTP_COOKIEFILE=.urs_cookies GDAL_HTTP_COOKIEJAR=.urs_cookies'\n",
    "env = 'GDAL_DISABLE_READDIR_ON_OPEN=EMPTY_DIR GDAL_HTTP_COOKIEFILE=.urs_cookies GDAL_HTTP_COOKIEJAR=.urs_cookies '\n",
    "env += 'GDAL_MAX_RAW_BLOCK_CACHE_SIZE=200000000 GDAL_SWATH_SIZE=200000000 VSI_CURL_CACHE_SIZE=200000000'\n",
    "src = '/vsicurl/https://n5eil01u.ecs.nsidc.org/DP4/MEASURES/NSIDC-0723.003/2020.02.10/GL_S1bks_mosaic_10Feb20_15Feb20_gamma0_50m_v03.0.tif'\n",
    "dst = os.path.basename(src)\n",
    "cmd = f'{env} gdalwarp --debug on -overwrite -t_srs EPSG:4326 -te -54.85 69.31 -52.18 70.26 {src} {dst} 2>gdalwarp.log 1>gdalwarp.out'\n",
    "print(cmd)\n",
    "!{cmd}"
   ]
  },
  {
   "cell_type": "code",
   "execution_count": null,
   "metadata": {},
   "outputs": [],
   "source": [
    "# GDALWARP 3.0 AWS (s3://my-cog-server/GL_S1bks_mosaic_13Jan15_24Jan15_gamma0_50m_v03.0.tif)\n",
    "src = '/vsicurl/https://my-cog-server.s3-us-west-2.amazonaws.com/GL_S1bks_mosaic_10Feb20_15Feb20_gamma0_50m_v03.0.tif'\n",
    "dst = os.path.basename(src)\n",
    "cmd = f'{env} gdalwarp --debug on -overwrite -t_srs EPSG:4326 -te -54.85 69.31 -52.18 70.26 {src} {dst} 2>gdalwarpAWS.log 1>gdalwarpAWS.out'\n",
    "print(cmd)\n",
    "!{cmd}"
   ]
  },
  {
   "cell_type": "code",
   "execution_count": null,
   "metadata": {},
   "outputs": [],
   "source": [
    "# GDALWARP 3.1 AWS\n",
    "src = '/vsicurl/https://my-cog-server.s3-us-west-2.amazonaws.com/GL_S1bks_mosaic_10Feb20_15Feb20_gamma0_50m_v03.1.tif'\n",
    "dst = os.path.basename(src)\n",
    "cmd = f'{env} gdalwarp --debug on -overwrite -t_srs EPSG:4326 -te -54.85 69.31 -52.18 70.26 {src} {dst} 2>gdalwarpAWS31.log 1>gdalwarpAWS31.out'\n",
    "print(cmd)\n",
    "!{cmd}"
   ]
  },
  {
   "cell_type": "code",
   "execution_count": null,
   "metadata": {},
   "outputs": [],
   "source": [
    "# Network requests\n",
    "!grep Downloading gdalwarp.log | wc\n",
    "!grep Downloading gdalwarpAWS.log | wc\n",
    "!grep Downloading gdalwarpAWS31.log | wc"
   ]
  },
  {
   "cell_type": "markdown",
   "metadata": {},
   "source": [
    "### GDALTRANSLATE\n",
    "\n",
    "(getting 1 512x512 tile from a COG should be 2 GET requests (1 for header, 1 for data)"
   ]
  },
  {
   "cell_type": "code",
   "execution_count": null,
   "metadata": {},
   "outputs": [],
   "source": [
    "# Test NSIDC 3.0\n",
    "# lots of GET requests and download errors\n",
    "env = 'GDAL_DISABLE_READDIR_ON_OPEN=EMPTY_DIR GDAL_HTTP_COOKIEFILE=.urs_cookies GDAL_HTTP_COOKIEJAR=.urs_cookies '\n",
    "src = '/vsicurl/https://n5eil01u.ecs.nsidc.org/DP4/MEASURES/NSIDC-0723.003/2020.02.10/GL_S1bks_mosaic_10Feb20_15Feb20_gamma0_50m_v03.0.tif'\n",
    "dst = os.path.basename(src)\n",
    "cmd = f'{env} gdal_translate --debug on -srcwin 0 0 512 512 {src} {dst} 2>gdaltranslate.log 1>gdaltranslate.out'\n",
    "!{cmd}"
   ]
  },
  {
   "cell_type": "code",
   "execution_count": null,
   "metadata": {},
   "outputs": [],
   "source": [
    "# Test AWS 3.0\n",
    "env = 'GDAL_DISABLE_READDIR_ON_OPEN=EMPTY_DIR GDAL_HTTP_COOKIEFILE=.urs_cookies GDAL_HTTP_COOKIEJAR=.urs_cookies'\n",
    "src = '/vsicurl/https://my-cog-server.s3-us-west-2.amazonaws.com/GL_S1bks_mosaic_10Feb20_15Feb20_gamma0_50m_v03.0.tif'\n",
    "dst = os.path.basename(src)\n",
    "cmd = f'{env} gdal_translate --debug on -srcwin 0 0 512 512 {src} {dst} 2>gdaltranslateAWS.log 1>gdaltranslateAWS.out'\n",
    "!{cmd}"
   ]
  },
  {
   "cell_type": "code",
   "execution_count": null,
   "metadata": {},
   "outputs": [],
   "source": [
    "# Test AWS 3.1\n",
    "env = 'GDAL_DISABLE_READDIR_ON_OPEN=EMPTY_DIR GDAL_HTTP_COOKIEFILE=.urs_cookies GDAL_HTTP_COOKIEJAR=.urs_cookies'\n",
    "src = '/vsicurl/https://my-cog-server.s3-us-west-2.amazonaws.com/GL_S1bks_mosaic_10Feb20_15Feb20_gamma0_50m_v03.1.tif'\n",
    "dst = os.path.basename(src)\n",
    "cmd = f'{env} gdal_translate --debug on -srcwin 0 0 512 512 {src} {dst} 2>gdaltranslateAWS31.log 1>gdaltranslateAWS31.out'\n",
    "!{cmd}"
   ]
  },
  {
   "cell_type": "code",
   "execution_count": null,
   "metadata": {},
   "outputs": [],
   "source": [
    "!grep Downloading gdaltranslate.log | wc\n",
    "!grep Downloading gdaltranslateAWS.log | wc\n",
    "!grep Downloading gdaltranslateAWS31.log | wc"
   ]
  },
  {
   "cell_type": "raw",
   "metadata": {},
   "source": [
    "       7      28    1137\n",
    "       7      28     990\n",
    "       2       8     284"
   ]
  },
  {
   "cell_type": "code",
   "execution_count": 5,
   "metadata": {},
   "outputs": [
    {
     "name": "stdout",
     "output_type": "stream",
     "text": [
      "CPL_VSIL_CURL_CACHE_SIZE=300000000 GDAL_SWATH_SIZE=300000000 GDAL_MAX_RAW_BLOCK_CACHE_SIZE=300000000 GDAL_DISABLE_READDIR_ON_OPEN=EMPTY_DIR GDAL_HTTP_COOKIEFILE=.urs_cookies GDAL_HTTP_COOKIEJAR=.urs_cookies gdal_translate --debug on -srcwin 0 0 29520 2560 /vsicurl/https://my-cog-server.s3-us-west-2.amazonaws.com/GL_S1bks_mosaic_10Feb20_15Feb20_gamma0_50m_v03.1.tif subset.tif 2>row.log 1>row.out\n"
     ]
    }
   ],
   "source": [
    "# try to retrive >10MB woth of pixels from 29520x53220 file\n",
    "# first 5 row tiles ~288MB *uncompressed**\n",
    "# http://osgeo-org.1560.x6.nabble.com/gdal-dev-gdalwarp-doesn-t-use-the-VSIL-curl-cache-td5391617.html\n",
    "# can also use VSI_CACHE_SIZE and VSI_CACHE=FALSE\n",
    "#GDAL_MAX_RAW_BLOCK_CACHE_SIZE=300000000 (300MB)\n",
    "# GDAL_MAX_RAW_BLOCK_CACHE_SIZE=100000000 (100MB)\n",
    "#In addition, a global least-recently-used cache of 16 MB\n",
    "# CPL_VSIL_CURL_CACHE_SIZE=160000000 #default 16MB\n",
    "\n",
    "# NOTE thes swath sizes and cache sizes must match **uncompressed** raster size\n",
    "nrows = 512*5\n",
    "env = 'CPL_VSIL_CURL_CACHE_SIZE=300000000 GDAL_SWATH_SIZE=300000000 GDAL_MAX_RAW_BLOCK_CACHE_SIZE=300000000 GDAL_DISABLE_READDIR_ON_OPEN=EMPTY_DIR GDAL_HTTP_COOKIEFILE=.urs_cookies GDAL_HTTP_COOKIEJAR=.urs_cookies'\n",
    "src = '/vsicurl/https://my-cog-server.s3-us-west-2.amazonaws.com/GL_S1bks_mosaic_10Feb20_15Feb20_gamma0_50m_v03.1.tif'\n",
    "dst = 'subset.tif'\n",
    "cmd = f'{env} gdal_translate --debug on -srcwin 0 0 29520 {nrows} {src} {dst} 2>row.log 1>row.out'\n",
    "print(cmd)\n",
    "!{cmd}"
   ]
  },
  {
   "cell_type": "code",
   "execution_count": 6,
   "metadata": {},
   "outputs": [
    {
     "name": "stdout",
     "output_type": "stream",
     "text": [
      "       2       8     284\n"
     ]
    }
   ],
   "source": [
    "!grep Downloading row.log | wc"
   ]
  },
  {
   "cell_type": "markdown",
   "metadata": {},
   "source": [
    "## VRT\n",
    "\n",
    "subset\n",
    "\n",
    "minx\tminy\tmaxx\tmaxy\n",
    "0\t-256677.224952\tve+06\t-88385.054733\t-2.224398e+06\n"
   ]
  },
  {
   "cell_type": "code",
   "execution_count": 7,
   "metadata": {},
   "outputs": [
    {
     "name": "stdout",
     "output_type": "stream",
     "text": [
      "/vsicurl/https://n5eil01u.ecs.nsidc.org/DP4/MEASURES/NSIDC-0723.003/2019.12.30/GL_S1bks_mosaic_30Dec19_04Jan20_gamma0_50m_v03.0.tif\n",
      "/vsicurl/https://n5eil01u.ecs.nsidc.org/DP4/MEASURES/NSIDC-0723.003/2020.01.05/GL_S1bks_mosaic_05Jan20_10Jan20_gamma0_50m_v03.0.tif\n",
      "CPL_VSIL_CURL_CACHE_SIZE=300000000 GDAL_SWATH_SIZE=300000000 GDAL_MAX_RAW_BLOCK_CACHE_SIZE=300000000 GDAL_DISABLE_READDIR_ON_OPEN=EMPTY_DIR GDAL_HTTP_COOKIEFILE=.urs_cookies GDAL_HTTP_COOKIEJAR=.urs_cookies gdalbuildvrt -overwrite -allow_projection_difference -separate -input_file_list nsidc.txt nsidc.vrt\n",
      "0...10...20...30...40...50...60...70...80...90...100 - done.\n"
     ]
    }
   ],
   "source": [
    "with open('nsidc.txt', 'w') as f:\n",
    "    vsis = ['/vsicurl/' + line +'\\n' for line in cogs]\n",
    "    f.writelines(vsis)\n",
    "        \n",
    "!head -n 2 nsidc.txt\n",
    "cmd = f'{env} gdalbuildvrt -overwrite -allow_projection_difference -separate -input_file_list nsidc.txt nsidc.vrt'\n",
    "print(cmd)\n",
    "!{cmd}"
   ]
  },
  {
   "cell_type": "code",
   "execution_count": 8,
   "metadata": {},
   "outputs": [
    {
     "name": "stdout",
     "output_type": "stream",
     "text": [
      "/vsicurl/https://my-cog-server.s3-us-west-2.amazonaws.com/GL_S1bks_mosaic_30Dec19_04Jan20_gamma0_50m_v03.0.tif\n",
      "/vsicurl/https://my-cog-server.s3-us-west-2.amazonaws.com/GL_S1bks_mosaic_05Jan20_10Jan20_gamma0_50m_v03.0.tif\n",
      "CPL_VSIL_CURL_CACHE_SIZE=300000000 GDAL_SWATH_SIZE=300000000 GDAL_MAX_RAW_BLOCK_CACHE_SIZE=300000000 GDAL_DISABLE_READDIR_ON_OPEN=EMPTY_DIR GDAL_HTTP_COOKIEFILE=.urs_cookies GDAL_HTTP_COOKIEJAR=.urs_cookies gdalbuildvrt -overwrite -allow_projection_difference -separate -input_file_list aws-s3.txt aws.vrt\n",
      "0...10...20...30...40...50...60...70...80...90...100 - done.\n"
     ]
    }
   ],
   "source": [
    "with open('aws-s3.txt', 'w') as f:\n",
    "    prefix = '/vsicurl/https://my-cog-server.s3-us-west-2.amazonaws.com/'\n",
    "    vsis = [prefix + os.path.basename(cog) +'\\n' for cog in cogs]\n",
    "    f.writelines(vsis)\n",
    "        \n",
    "!head -n 2 aws-s3.txt\n",
    "cmd = f'{env} gdalbuildvrt -overwrite -allow_projection_difference -separate -input_file_list aws-s3.txt aws.vrt'\n",
    "print(cmd)\n",
    "!{cmd}"
   ]
  },
  {
   "cell_type": "code",
   "execution_count": 9,
   "metadata": {},
   "outputs": [
    {
     "name": "stdout",
     "output_type": "stream",
     "text": [
      "CPU times: user 3.51 s, sys: 181 ms, total: 3.69 s\n",
      "Wall time: 756 ms\n"
     ]
    },
    {
     "data": {
      "text/html": [
       "<table>\n",
       "<tr>\n",
       "<td>\n",
       "<table>\n",
       "  <thead>\n",
       "    <tr><td> </td><th> Array </th><th> Chunk </th></tr>\n",
       "  </thead>\n",
       "  <tbody>\n",
       "    <tr><th> Bytes </th><td> 62.84 GB </td> <td> 60.46 MB </td></tr>\n",
       "    <tr><th> Shape </th><td> (10, 53220, 29520) </td> <td> (1, 512, 29520) </td></tr>\n",
       "    <tr><th> Count </th><td> 1041 Tasks </td><td> 1040 Chunks </td></tr>\n",
       "    <tr><th> Type </th><td> float32 </td><td> numpy.ndarray </td></tr>\n",
       "  </tbody>\n",
       "</table>\n",
       "</td>\n",
       "<td>\n",
       "<svg width=\"141\" height=\"184\" style=\"stroke:rgb(0,0,0);stroke-width:1\" >\n",
       "\n",
       "  <!-- Horizontal lines -->\n",
       "  <line x1=\"10\" y1=\"0\" x2=\"24\" y2=\"14\" style=\"stroke-width:2\" />\n",
       "  <line x1=\"10\" y1=\"5\" x2=\"24\" y2=\"20\" />\n",
       "  <line x1=\"10\" y1=\"11\" x2=\"24\" y2=\"26\" />\n",
       "  <line x1=\"10\" y1=\"18\" x2=\"24\" y2=\"33\" />\n",
       "  <line x1=\"10\" y1=\"24\" x2=\"24\" y2=\"39\" />\n",
       "  <line x1=\"10\" y1=\"31\" x2=\"24\" y2=\"46\" />\n",
       "  <line x1=\"10\" y1=\"36\" x2=\"24\" y2=\"51\" />\n",
       "  <line x1=\"10\" y1=\"43\" x2=\"24\" y2=\"58\" />\n",
       "  <line x1=\"10\" y1=\"49\" x2=\"24\" y2=\"64\" />\n",
       "  <line x1=\"10\" y1=\"56\" x2=\"24\" y2=\"71\" />\n",
       "  <line x1=\"10\" y1=\"62\" x2=\"24\" y2=\"77\" />\n",
       "  <line x1=\"10\" y1=\"69\" x2=\"24\" y2=\"84\" />\n",
       "  <line x1=\"10\" y1=\"75\" x2=\"24\" y2=\"89\" />\n",
       "  <line x1=\"10\" y1=\"81\" x2=\"24\" y2=\"96\" />\n",
       "  <line x1=\"10\" y1=\"87\" x2=\"24\" y2=\"102\" />\n",
       "  <line x1=\"10\" y1=\"94\" x2=\"24\" y2=\"109\" />\n",
       "  <line x1=\"10\" y1=\"100\" x2=\"24\" y2=\"115\" />\n",
       "  <line x1=\"10\" y1=\"107\" x2=\"24\" y2=\"122\" />\n",
       "  <line x1=\"10\" y1=\"113\" x2=\"24\" y2=\"128\" />\n",
       "  <line x1=\"10\" y1=\"120\" x2=\"24\" y2=\"134\" style=\"stroke-width:2\" />\n",
       "\n",
       "  <!-- Vertical lines -->\n",
       "  <line x1=\"10\" y1=\"0\" x2=\"10\" y2=\"120\" style=\"stroke-width:2\" />\n",
       "  <line x1=\"11\" y1=\"1\" x2=\"11\" y2=\"121\" />\n",
       "  <line x1=\"12\" y1=\"2\" x2=\"12\" y2=\"122\" />\n",
       "  <line x1=\"14\" y1=\"4\" x2=\"14\" y2=\"124\" />\n",
       "  <line x1=\"15\" y1=\"5\" x2=\"15\" y2=\"125\" />\n",
       "  <line x1=\"17\" y1=\"7\" x2=\"17\" y2=\"127\" />\n",
       "  <line x1=\"18\" y1=\"8\" x2=\"18\" y2=\"128\" />\n",
       "  <line x1=\"20\" y1=\"10\" x2=\"20\" y2=\"130\" />\n",
       "  <line x1=\"21\" y1=\"11\" x2=\"21\" y2=\"131\" />\n",
       "  <line x1=\"23\" y1=\"13\" x2=\"23\" y2=\"133\" />\n",
       "  <line x1=\"24\" y1=\"14\" x2=\"24\" y2=\"134\" style=\"stroke-width:2\" />\n",
       "\n",
       "  <!-- Colored Rectangle -->\n",
       "  <polygon points=\"10.0,0.0 24.9485979497544,14.948597949754403 24.9485979497544,134.9485979497544 10.0,120.0\" style=\"fill:#8B4903A0;stroke-width:0\"/>\n",
       "\n",
       "  <!-- Horizontal lines -->\n",
       "  <line x1=\"10\" y1=\"0\" x2=\"76\" y2=\"0\" style=\"stroke-width:2\" />\n",
       "  <line x1=\"11\" y1=\"1\" x2=\"78\" y2=\"1\" />\n",
       "  <line x1=\"12\" y1=\"2\" x2=\"79\" y2=\"2\" />\n",
       "  <line x1=\"14\" y1=\"4\" x2=\"81\" y2=\"4\" />\n",
       "  <line x1=\"15\" y1=\"5\" x2=\"82\" y2=\"5\" />\n",
       "  <line x1=\"17\" y1=\"7\" x2=\"84\" y2=\"7\" />\n",
       "  <line x1=\"18\" y1=\"8\" x2=\"85\" y2=\"8\" />\n",
       "  <line x1=\"20\" y1=\"10\" x2=\"87\" y2=\"10\" />\n",
       "  <line x1=\"21\" y1=\"11\" x2=\"88\" y2=\"11\" />\n",
       "  <line x1=\"23\" y1=\"13\" x2=\"90\" y2=\"13\" />\n",
       "  <line x1=\"24\" y1=\"14\" x2=\"91\" y2=\"14\" style=\"stroke-width:2\" />\n",
       "\n",
       "  <!-- Vertical lines -->\n",
       "  <line x1=\"10\" y1=\"0\" x2=\"24\" y2=\"14\" style=\"stroke-width:2\" />\n",
       "  <line x1=\"76\" y1=\"0\" x2=\"91\" y2=\"14\" style=\"stroke-width:2\" />\n",
       "\n",
       "  <!-- Colored Rectangle -->\n",
       "  <polygon points=\"10.0,0.0 76.56144306651635,0.0 91.51004101627075,14.948597949754403 24.9485979497544,14.948597949754403\" style=\"fill:#ECB172A0;stroke-width:0\"/>\n",
       "\n",
       "  <!-- Horizontal lines -->\n",
       "  <line x1=\"24\" y1=\"14\" x2=\"91\" y2=\"14\" style=\"stroke-width:2\" />\n",
       "  <line x1=\"24\" y1=\"20\" x2=\"91\" y2=\"20\" />\n",
       "  <line x1=\"24\" y1=\"26\" x2=\"91\" y2=\"26\" />\n",
       "  <line x1=\"24\" y1=\"33\" x2=\"91\" y2=\"33\" />\n",
       "  <line x1=\"24\" y1=\"39\" x2=\"91\" y2=\"39\" />\n",
       "  <line x1=\"24\" y1=\"46\" x2=\"91\" y2=\"46\" />\n",
       "  <line x1=\"24\" y1=\"51\" x2=\"91\" y2=\"51\" />\n",
       "  <line x1=\"24\" y1=\"58\" x2=\"91\" y2=\"58\" />\n",
       "  <line x1=\"24\" y1=\"64\" x2=\"91\" y2=\"64\" />\n",
       "  <line x1=\"24\" y1=\"71\" x2=\"91\" y2=\"71\" />\n",
       "  <line x1=\"24\" y1=\"77\" x2=\"91\" y2=\"77\" />\n",
       "  <line x1=\"24\" y1=\"84\" x2=\"91\" y2=\"84\" />\n",
       "  <line x1=\"24\" y1=\"89\" x2=\"91\" y2=\"89\" />\n",
       "  <line x1=\"24\" y1=\"96\" x2=\"91\" y2=\"96\" />\n",
       "  <line x1=\"24\" y1=\"102\" x2=\"91\" y2=\"102\" />\n",
       "  <line x1=\"24\" y1=\"109\" x2=\"91\" y2=\"109\" />\n",
       "  <line x1=\"24\" y1=\"115\" x2=\"91\" y2=\"115\" />\n",
       "  <line x1=\"24\" y1=\"122\" x2=\"91\" y2=\"122\" />\n",
       "  <line x1=\"24\" y1=\"128\" x2=\"91\" y2=\"128\" />\n",
       "  <line x1=\"24\" y1=\"134\" x2=\"91\" y2=\"134\" style=\"stroke-width:2\" />\n",
       "\n",
       "  <!-- Vertical lines -->\n",
       "  <line x1=\"24\" y1=\"14\" x2=\"24\" y2=\"134\" style=\"stroke-width:2\" />\n",
       "  <line x1=\"91\" y1=\"14\" x2=\"91\" y2=\"134\" style=\"stroke-width:2\" />\n",
       "\n",
       "  <!-- Colored Rectangle -->\n",
       "  <polygon points=\"24.9485979497544,14.948597949754403 91.51004101627075,14.948597949754403 91.51004101627075,134.9485979497544 24.9485979497544,134.9485979497544\" style=\"fill:#8B4903A0;stroke-width:0\"/>\n",
       "\n",
       "  <!-- Text -->\n",
       "  <text x=\"58.229319\" y=\"154.948598\" font-size=\"1.0rem\" font-weight=\"100\" text-anchor=\"middle\" >29520</text>\n",
       "  <text x=\"111.510041\" y=\"74.948598\" font-size=\"1.0rem\" font-weight=\"100\" text-anchor=\"middle\" transform=\"rotate(-90,111.510041,74.948598)\">53220</text>\n",
       "  <text x=\"7.474299\" y=\"147.474299\" font-size=\"1.0rem\" font-weight=\"100\" text-anchor=\"middle\" transform=\"rotate(45,7.474299,147.474299)\">10</text>\n",
       "</svg>\n",
       "</td>\n",
       "</tr>\n",
       "</table>"
      ],
      "text/plain": [
       "dask.array<open_rasterio-852b800193dbf50999e2a437085764ce<this-array>, shape=(10, 53220, 29520), dtype=float32, chunksize=(1, 512, 29520), chunktype=numpy.ndarray>"
      ]
     },
     "execution_count": 9,
     "metadata": {},
     "output_type": "execute_result"
    }
   ],
   "source": [
    "%%time\n",
    "\n",
    "import xarray as xr\n",
    "da = xr.open_rasterio('nsidc.vrt', chunks=dict(band=1, x=29520, y=512)) #ensure data loaded as dask arrays\n",
    "da.data"
   ]
  },
  {
   "cell_type": "code",
   "execution_count": 12,
   "metadata": {},
   "outputs": [
    {
     "data": {
      "text/html": [
       "<table>\n",
       "<tr>\n",
       "<td>\n",
       "<table>\n",
       "  <thead>\n",
       "    <tr><td> </td><th> Array </th><th> Chunk </th></tr>\n",
       "  </thead>\n",
       "  <tbody>\n",
       "    <tr><th> Bytes </th><td> 242.35 MB </td> <td> 6.89 MB </td></tr>\n",
       "    <tr><th> Shape </th><td> (10, 1800, 3366) </td> <td> (1, 512, 3366) </td></tr>\n",
       "    <tr><th> Count </th><td> 1091 Tasks </td><td> 50 Chunks </td></tr>\n",
       "    <tr><th> Type </th><td> float32 </td><td> numpy.ndarray </td></tr>\n",
       "  </tbody>\n",
       "</table>\n",
       "</td>\n",
       "<td>\n",
       "<svg width=\"194\" height=\"129\" style=\"stroke:rgb(0,0,0);stroke-width:1\" >\n",
       "\n",
       "  <!-- Horizontal lines -->\n",
       "  <line x1=\"10\" y1=\"0\" x2=\"24\" y2=\"14\" style=\"stroke-width:2\" />\n",
       "  <line x1=\"10\" y1=\"7\" x2=\"24\" y2=\"22\" />\n",
       "  <line x1=\"10\" y1=\"26\" x2=\"24\" y2=\"41\" />\n",
       "  <line x1=\"10\" y1=\"44\" x2=\"24\" y2=\"59\" />\n",
       "  <line x1=\"10\" y1=\"62\" x2=\"24\" y2=\"77\" />\n",
       "  <line x1=\"10\" y1=\"64\" x2=\"24\" y2=\"79\" style=\"stroke-width:2\" />\n",
       "\n",
       "  <!-- Vertical lines -->\n",
       "  <line x1=\"10\" y1=\"0\" x2=\"10\" y2=\"64\" style=\"stroke-width:2\" />\n",
       "  <line x1=\"11\" y1=\"1\" x2=\"11\" y2=\"65\" />\n",
       "  <line x1=\"12\" y1=\"2\" x2=\"12\" y2=\"67\" />\n",
       "  <line x1=\"14\" y1=\"4\" x2=\"14\" y2=\"68\" />\n",
       "  <line x1=\"15\" y1=\"5\" x2=\"15\" y2=\"70\" />\n",
       "  <line x1=\"17\" y1=\"7\" x2=\"17\" y2=\"71\" />\n",
       "  <line x1=\"18\" y1=\"8\" x2=\"18\" y2=\"73\" />\n",
       "  <line x1=\"20\" y1=\"10\" x2=\"20\" y2=\"74\" />\n",
       "  <line x1=\"21\" y1=\"11\" x2=\"21\" y2=\"76\" />\n",
       "  <line x1=\"23\" y1=\"13\" x2=\"23\" y2=\"77\" />\n",
       "  <line x1=\"24\" y1=\"14\" x2=\"24\" y2=\"79\" style=\"stroke-width:2\" />\n",
       "\n",
       "  <!-- Colored Rectangle -->\n",
       "  <polygon points=\"10.0,0.0 24.9485979497544,14.948597949754403 24.9485979497544,79.11972094440681 10.0,64.1711229946524\" style=\"fill:#ECB172A0;stroke-width:0\"/>\n",
       "\n",
       "  <!-- Horizontal lines -->\n",
       "  <line x1=\"10\" y1=\"0\" x2=\"130\" y2=\"0\" style=\"stroke-width:2\" />\n",
       "  <line x1=\"11\" y1=\"1\" x2=\"131\" y2=\"1\" />\n",
       "  <line x1=\"12\" y1=\"2\" x2=\"132\" y2=\"2\" />\n",
       "  <line x1=\"14\" y1=\"4\" x2=\"134\" y2=\"4\" />\n",
       "  <line x1=\"15\" y1=\"5\" x2=\"135\" y2=\"5\" />\n",
       "  <line x1=\"17\" y1=\"7\" x2=\"137\" y2=\"7\" />\n",
       "  <line x1=\"18\" y1=\"8\" x2=\"138\" y2=\"8\" />\n",
       "  <line x1=\"20\" y1=\"10\" x2=\"140\" y2=\"10\" />\n",
       "  <line x1=\"21\" y1=\"11\" x2=\"141\" y2=\"11\" />\n",
       "  <line x1=\"23\" y1=\"13\" x2=\"143\" y2=\"13\" />\n",
       "  <line x1=\"24\" y1=\"14\" x2=\"144\" y2=\"14\" style=\"stroke-width:2\" />\n",
       "\n",
       "  <!-- Vertical lines -->\n",
       "  <line x1=\"10\" y1=\"0\" x2=\"24\" y2=\"14\" style=\"stroke-width:2\" />\n",
       "  <line x1=\"130\" y1=\"0\" x2=\"144\" y2=\"14\" style=\"stroke-width:2\" />\n",
       "\n",
       "  <!-- Colored Rectangle -->\n",
       "  <polygon points=\"10.0,0.0 130.0,0.0 144.9485979497544,14.948597949754403 24.9485979497544,14.948597949754403\" style=\"fill:#ECB172A0;stroke-width:0\"/>\n",
       "\n",
       "  <!-- Horizontal lines -->\n",
       "  <line x1=\"24\" y1=\"14\" x2=\"144\" y2=\"14\" style=\"stroke-width:2\" />\n",
       "  <line x1=\"24\" y1=\"22\" x2=\"144\" y2=\"22\" />\n",
       "  <line x1=\"24\" y1=\"41\" x2=\"144\" y2=\"41\" />\n",
       "  <line x1=\"24\" y1=\"59\" x2=\"144\" y2=\"59\" />\n",
       "  <line x1=\"24\" y1=\"77\" x2=\"144\" y2=\"77\" />\n",
       "  <line x1=\"24\" y1=\"79\" x2=\"144\" y2=\"79\" style=\"stroke-width:2\" />\n",
       "\n",
       "  <!-- Vertical lines -->\n",
       "  <line x1=\"24\" y1=\"14\" x2=\"24\" y2=\"79\" style=\"stroke-width:2\" />\n",
       "  <line x1=\"144\" y1=\"14\" x2=\"144\" y2=\"79\" style=\"stroke-width:2\" />\n",
       "\n",
       "  <!-- Colored Rectangle -->\n",
       "  <polygon points=\"24.9485979497544,14.948597949754403 144.9485979497544,14.948597949754403 144.9485979497544,79.11972094440681 24.9485979497544,79.11972094440681\" style=\"fill:#ECB172A0;stroke-width:0\"/>\n",
       "\n",
       "  <!-- Text -->\n",
       "  <text x=\"84.948598\" y=\"99.119721\" font-size=\"1.0rem\" font-weight=\"100\" text-anchor=\"middle\" >3366</text>\n",
       "  <text x=\"164.948598\" y=\"47.034159\" font-size=\"1.0rem\" font-weight=\"100\" text-anchor=\"middle\" transform=\"rotate(-90,164.948598,47.034159)\">1800</text>\n",
       "  <text x=\"7.474299\" y=\"91.645422\" font-size=\"1.0rem\" font-weight=\"100\" text-anchor=\"middle\" transform=\"rotate(45,7.474299,91.645422)\">10</text>\n",
       "</svg>\n",
       "</td>\n",
       "</tr>\n",
       "</table>"
      ],
      "text/plain": [
       "dask.array<getitem, shape=(10, 1800, 3366), dtype=float32, chunksize=(1, 512, 3366), chunktype=numpy.ndarray>"
      ]
     },
     "execution_count": 12,
     "metadata": {},
     "output_type": "execute_result"
    }
   ],
   "source": [
    "subset = da.sel(x=slice(-256677, -88385), y=slice(-2.22e6, -2.31e6))\n",
    "subset.data"
   ]
  },
  {
   "cell_type": "code",
   "execution_count": 13,
   "metadata": {},
   "outputs": [
    {
     "ename": "RasterioIOError",
     "evalue": "Read or write failed. /vsicurl/https://n5eil01u.ecs.nsidc.org/DP4/MEASURES/NSIDC-0723.003/2019.12.30/GL_S1bks_mosaic_30Dec19_04Jan20_gamma0_50m_v03.0.tif, band 1: IReadBlock failed at X offset 14, Y offset 63: TIFFReadEncodedTile() failed.",
     "output_type": "error",
     "traceback": [
      "\u001b[0;31m---------------------------------------------------------------------------\u001b[0m",
      "\u001b[0;31mCPLE_AppDefinedError\u001b[0m                      Traceback (most recent call last)",
      "\u001b[0;32mrasterio/_io.pyx\u001b[0m in \u001b[0;36mrasterio._io.DatasetReaderBase._read\u001b[0;34m()\u001b[0m\n",
      "\u001b[0;32mrasterio/shim_rasterioex.pxi\u001b[0m in \u001b[0;36mrasterio._shim.io_multi_band\u001b[0;34m()\u001b[0m\n",
      "\u001b[0;32mrasterio/_err.pyx\u001b[0m in \u001b[0;36mrasterio._err.exc_wrap_int\u001b[0;34m()\u001b[0m\n",
      "\u001b[0;31mCPLE_AppDefinedError\u001b[0m: /vsicurl/https://n5eil01u.ecs.nsidc.org/DP4/MEASURES/NSIDC-0723.003/2019.12.30/GL_S1bks_mosaic_30Dec19_04Jan20_gamma0_50m_v03.0.tif, band 1: IReadBlock failed at X offset 14, Y offset 63: TIFFReadEncodedTile() failed.",
      "\nDuring handling of the above exception, another exception occurred:\n",
      "\u001b[0;31mRasterioIOError\u001b[0m                           Traceback (most recent call last)",
      "\u001b[0;32m<timed eval>\u001b[0m in \u001b[0;36m<module>\u001b[0;34m\u001b[0m\n",
      "\u001b[0;32m~/miniconda3/envs/greenland-ice-mapping/lib/python3.8/site-packages/dask/base.py\u001b[0m in \u001b[0;36mpersist\u001b[0;34m(self, **kwargs)\u001b[0m\n\u001b[1;32m    138\u001b[0m         \u001b[0mdask\u001b[0m\u001b[0;34m.\u001b[0m\u001b[0mbase\u001b[0m\u001b[0;34m.\u001b[0m\u001b[0mpersist\u001b[0m\u001b[0;34m\u001b[0m\u001b[0;34m\u001b[0m\u001b[0m\n\u001b[1;32m    139\u001b[0m         \"\"\"\n\u001b[0;32m--> 140\u001b[0;31m         \u001b[0;34m(\u001b[0m\u001b[0mresult\u001b[0m\u001b[0;34m,\u001b[0m\u001b[0;34m)\u001b[0m \u001b[0;34m=\u001b[0m \u001b[0mpersist\u001b[0m\u001b[0;34m(\u001b[0m\u001b[0mself\u001b[0m\u001b[0;34m,\u001b[0m \u001b[0mtraverse\u001b[0m\u001b[0;34m=\u001b[0m\u001b[0;32mFalse\u001b[0m\u001b[0;34m,\u001b[0m \u001b[0;34m**\u001b[0m\u001b[0mkwargs\u001b[0m\u001b[0;34m)\u001b[0m\u001b[0;34m\u001b[0m\u001b[0;34m\u001b[0m\u001b[0m\n\u001b[0m\u001b[1;32m    141\u001b[0m         \u001b[0;32mreturn\u001b[0m \u001b[0mresult\u001b[0m\u001b[0;34m\u001b[0m\u001b[0;34m\u001b[0m\u001b[0m\n\u001b[1;32m    142\u001b[0m \u001b[0;34m\u001b[0m\u001b[0m\n",
      "\u001b[0;32m~/miniconda3/envs/greenland-ice-mapping/lib/python3.8/site-packages/dask/base.py\u001b[0m in \u001b[0;36mpersist\u001b[0;34m(*args, **kwargs)\u001b[0m\n\u001b[1;32m    655\u001b[0m         \u001b[0mpostpersists\u001b[0m\u001b[0;34m.\u001b[0m\u001b[0mappend\u001b[0m\u001b[0;34m(\u001b[0m\u001b[0;34m(\u001b[0m\u001b[0mrebuild\u001b[0m\u001b[0;34m,\u001b[0m \u001b[0ma_keys\u001b[0m\u001b[0;34m,\u001b[0m \u001b[0mstate\u001b[0m\u001b[0;34m)\u001b[0m\u001b[0;34m)\u001b[0m\u001b[0;34m\u001b[0m\u001b[0;34m\u001b[0m\u001b[0m\n\u001b[1;32m    656\u001b[0m \u001b[0;34m\u001b[0m\u001b[0m\n\u001b[0;32m--> 657\u001b[0;31m     \u001b[0mresults\u001b[0m \u001b[0;34m=\u001b[0m \u001b[0mschedule\u001b[0m\u001b[0;34m(\u001b[0m\u001b[0mdsk\u001b[0m\u001b[0;34m,\u001b[0m \u001b[0mkeys\u001b[0m\u001b[0;34m,\u001b[0m \u001b[0;34m**\u001b[0m\u001b[0mkwargs\u001b[0m\u001b[0;34m)\u001b[0m\u001b[0;34m\u001b[0m\u001b[0;34m\u001b[0m\u001b[0m\n\u001b[0m\u001b[1;32m    658\u001b[0m     \u001b[0md\u001b[0m \u001b[0;34m=\u001b[0m \u001b[0mdict\u001b[0m\u001b[0;34m(\u001b[0m\u001b[0mzip\u001b[0m\u001b[0;34m(\u001b[0m\u001b[0mkeys\u001b[0m\u001b[0;34m,\u001b[0m \u001b[0mresults\u001b[0m\u001b[0;34m)\u001b[0m\u001b[0;34m)\u001b[0m\u001b[0;34m\u001b[0m\u001b[0;34m\u001b[0m\u001b[0m\n\u001b[1;32m    659\u001b[0m     \u001b[0mresults2\u001b[0m \u001b[0;34m=\u001b[0m \u001b[0;34m[\u001b[0m\u001b[0mr\u001b[0m\u001b[0;34m(\u001b[0m\u001b[0;34m{\u001b[0m\u001b[0mk\u001b[0m\u001b[0;34m:\u001b[0m \u001b[0md\u001b[0m\u001b[0;34m[\u001b[0m\u001b[0mk\u001b[0m\u001b[0;34m]\u001b[0m \u001b[0;32mfor\u001b[0m \u001b[0mk\u001b[0m \u001b[0;32min\u001b[0m \u001b[0mks\u001b[0m\u001b[0;34m}\u001b[0m\u001b[0;34m,\u001b[0m \u001b[0;34m*\u001b[0m\u001b[0ms\u001b[0m\u001b[0;34m)\u001b[0m \u001b[0;32mfor\u001b[0m \u001b[0mr\u001b[0m\u001b[0;34m,\u001b[0m \u001b[0mks\u001b[0m\u001b[0;34m,\u001b[0m \u001b[0ms\u001b[0m \u001b[0;32min\u001b[0m \u001b[0mpostpersists\u001b[0m\u001b[0;34m]\u001b[0m\u001b[0;34m\u001b[0m\u001b[0;34m\u001b[0m\u001b[0m\n",
      "\u001b[0;32m~/miniconda3/envs/greenland-ice-mapping/lib/python3.8/site-packages/dask/threaded.py\u001b[0m in \u001b[0;36mget\u001b[0;34m(dsk, result, cache, num_workers, pool, **kwargs)\u001b[0m\n\u001b[1;32m     74\u001b[0m                 \u001b[0mpools\u001b[0m\u001b[0;34m[\u001b[0m\u001b[0mthread\u001b[0m\u001b[0;34m]\u001b[0m\u001b[0;34m[\u001b[0m\u001b[0mnum_workers\u001b[0m\u001b[0;34m]\u001b[0m \u001b[0;34m=\u001b[0m \u001b[0mpool\u001b[0m\u001b[0;34m\u001b[0m\u001b[0;34m\u001b[0m\u001b[0m\n\u001b[1;32m     75\u001b[0m \u001b[0;34m\u001b[0m\u001b[0m\n\u001b[0;32m---> 76\u001b[0;31m     results = get_async(\n\u001b[0m\u001b[1;32m     77\u001b[0m         \u001b[0mpool\u001b[0m\u001b[0;34m.\u001b[0m\u001b[0mapply_async\u001b[0m\u001b[0;34m,\u001b[0m\u001b[0;34m\u001b[0m\u001b[0;34m\u001b[0m\u001b[0m\n\u001b[1;32m     78\u001b[0m         \u001b[0mlen\u001b[0m\u001b[0;34m(\u001b[0m\u001b[0mpool\u001b[0m\u001b[0;34m.\u001b[0m\u001b[0m_pool\u001b[0m\u001b[0;34m)\u001b[0m\u001b[0;34m,\u001b[0m\u001b[0;34m\u001b[0m\u001b[0;34m\u001b[0m\u001b[0m\n",
      "\u001b[0;32m~/miniconda3/envs/greenland-ice-mapping/lib/python3.8/site-packages/dask/local.py\u001b[0m in \u001b[0;36mget_async\u001b[0;34m(apply_async, num_workers, dsk, result, cache, get_id, rerun_exceptions_locally, pack_exception, raise_exception, callbacks, dumps, loads, **kwargs)\u001b[0m\n\u001b[1;32m    484\u001b[0m                         \u001b[0m_execute_task\u001b[0m\u001b[0;34m(\u001b[0m\u001b[0mtask\u001b[0m\u001b[0;34m,\u001b[0m \u001b[0mdata\u001b[0m\u001b[0;34m)\u001b[0m  \u001b[0;31m# Re-execute locally\u001b[0m\u001b[0;34m\u001b[0m\u001b[0;34m\u001b[0m\u001b[0m\n\u001b[1;32m    485\u001b[0m                     \u001b[0;32melse\u001b[0m\u001b[0;34m:\u001b[0m\u001b[0;34m\u001b[0m\u001b[0;34m\u001b[0m\u001b[0m\n\u001b[0;32m--> 486\u001b[0;31m                         \u001b[0mraise_exception\u001b[0m\u001b[0;34m(\u001b[0m\u001b[0mexc\u001b[0m\u001b[0;34m,\u001b[0m \u001b[0mtb\u001b[0m\u001b[0;34m)\u001b[0m\u001b[0;34m\u001b[0m\u001b[0;34m\u001b[0m\u001b[0m\n\u001b[0m\u001b[1;32m    487\u001b[0m                 \u001b[0mres\u001b[0m\u001b[0;34m,\u001b[0m \u001b[0mworker_id\u001b[0m \u001b[0;34m=\u001b[0m \u001b[0mloads\u001b[0m\u001b[0;34m(\u001b[0m\u001b[0mres_info\u001b[0m\u001b[0;34m)\u001b[0m\u001b[0;34m\u001b[0m\u001b[0;34m\u001b[0m\u001b[0m\n\u001b[1;32m    488\u001b[0m                 \u001b[0mstate\u001b[0m\u001b[0;34m[\u001b[0m\u001b[0;34m\"cache\"\u001b[0m\u001b[0;34m]\u001b[0m\u001b[0;34m[\u001b[0m\u001b[0mkey\u001b[0m\u001b[0;34m]\u001b[0m \u001b[0;34m=\u001b[0m \u001b[0mres\u001b[0m\u001b[0;34m\u001b[0m\u001b[0;34m\u001b[0m\u001b[0m\n",
      "\u001b[0;32m~/miniconda3/envs/greenland-ice-mapping/lib/python3.8/site-packages/dask/local.py\u001b[0m in \u001b[0;36mreraise\u001b[0;34m(exc, tb)\u001b[0m\n\u001b[1;32m    314\u001b[0m     \u001b[0;32mif\u001b[0m \u001b[0mexc\u001b[0m\u001b[0;34m.\u001b[0m\u001b[0m__traceback__\u001b[0m \u001b[0;32mis\u001b[0m \u001b[0;32mnot\u001b[0m \u001b[0mtb\u001b[0m\u001b[0;34m:\u001b[0m\u001b[0;34m\u001b[0m\u001b[0;34m\u001b[0m\u001b[0m\n\u001b[1;32m    315\u001b[0m         \u001b[0;32mraise\u001b[0m \u001b[0mexc\u001b[0m\u001b[0;34m.\u001b[0m\u001b[0mwith_traceback\u001b[0m\u001b[0;34m(\u001b[0m\u001b[0mtb\u001b[0m\u001b[0;34m)\u001b[0m\u001b[0;34m\u001b[0m\u001b[0;34m\u001b[0m\u001b[0m\n\u001b[0;32m--> 316\u001b[0;31m     \u001b[0;32mraise\u001b[0m \u001b[0mexc\u001b[0m\u001b[0;34m\u001b[0m\u001b[0;34m\u001b[0m\u001b[0m\n\u001b[0m\u001b[1;32m    317\u001b[0m \u001b[0;34m\u001b[0m\u001b[0m\n\u001b[1;32m    318\u001b[0m \u001b[0;34m\u001b[0m\u001b[0m\n",
      "\u001b[0;32m~/miniconda3/envs/greenland-ice-mapping/lib/python3.8/site-packages/dask/local.py\u001b[0m in \u001b[0;36mexecute_task\u001b[0;34m(key, task_info, dumps, loads, get_id, pack_exception)\u001b[0m\n\u001b[1;32m    220\u001b[0m     \u001b[0;32mtry\u001b[0m\u001b[0;34m:\u001b[0m\u001b[0;34m\u001b[0m\u001b[0;34m\u001b[0m\u001b[0m\n\u001b[1;32m    221\u001b[0m         \u001b[0mtask\u001b[0m\u001b[0;34m,\u001b[0m \u001b[0mdata\u001b[0m \u001b[0;34m=\u001b[0m \u001b[0mloads\u001b[0m\u001b[0;34m(\u001b[0m\u001b[0mtask_info\u001b[0m\u001b[0;34m)\u001b[0m\u001b[0;34m\u001b[0m\u001b[0;34m\u001b[0m\u001b[0m\n\u001b[0;32m--> 222\u001b[0;31m         \u001b[0mresult\u001b[0m \u001b[0;34m=\u001b[0m \u001b[0m_execute_task\u001b[0m\u001b[0;34m(\u001b[0m\u001b[0mtask\u001b[0m\u001b[0;34m,\u001b[0m \u001b[0mdata\u001b[0m\u001b[0;34m)\u001b[0m\u001b[0;34m\u001b[0m\u001b[0;34m\u001b[0m\u001b[0m\n\u001b[0m\u001b[1;32m    223\u001b[0m         \u001b[0mid\u001b[0m \u001b[0;34m=\u001b[0m \u001b[0mget_id\u001b[0m\u001b[0;34m(\u001b[0m\u001b[0;34m)\u001b[0m\u001b[0;34m\u001b[0m\u001b[0;34m\u001b[0m\u001b[0m\n\u001b[1;32m    224\u001b[0m         \u001b[0mresult\u001b[0m \u001b[0;34m=\u001b[0m \u001b[0mdumps\u001b[0m\u001b[0;34m(\u001b[0m\u001b[0;34m(\u001b[0m\u001b[0mresult\u001b[0m\u001b[0;34m,\u001b[0m \u001b[0mid\u001b[0m\u001b[0;34m)\u001b[0m\u001b[0;34m)\u001b[0m\u001b[0;34m\u001b[0m\u001b[0;34m\u001b[0m\u001b[0m\n",
      "\u001b[0;32m~/miniconda3/envs/greenland-ice-mapping/lib/python3.8/site-packages/dask/core.py\u001b[0m in \u001b[0;36m_execute_task\u001b[0;34m(arg, cache, dsk)\u001b[0m\n\u001b[1;32m    119\u001b[0m         \u001b[0;31m# temporaries by their reference count and can execute certain\u001b[0m\u001b[0;34m\u001b[0m\u001b[0;34m\u001b[0m\u001b[0;34m\u001b[0m\u001b[0m\n\u001b[1;32m    120\u001b[0m         \u001b[0;31m# operations in-place.\u001b[0m\u001b[0;34m\u001b[0m\u001b[0;34m\u001b[0m\u001b[0;34m\u001b[0m\u001b[0m\n\u001b[0;32m--> 121\u001b[0;31m         \u001b[0;32mreturn\u001b[0m \u001b[0mfunc\u001b[0m\u001b[0;34m(\u001b[0m\u001b[0;34m*\u001b[0m\u001b[0;34m(\u001b[0m\u001b[0m_execute_task\u001b[0m\u001b[0;34m(\u001b[0m\u001b[0ma\u001b[0m\u001b[0;34m,\u001b[0m \u001b[0mcache\u001b[0m\u001b[0;34m)\u001b[0m \u001b[0;32mfor\u001b[0m \u001b[0ma\u001b[0m \u001b[0;32min\u001b[0m \u001b[0margs\u001b[0m\u001b[0;34m)\u001b[0m\u001b[0;34m)\u001b[0m\u001b[0;34m\u001b[0m\u001b[0;34m\u001b[0m\u001b[0m\n\u001b[0m\u001b[1;32m    122\u001b[0m     \u001b[0;32melif\u001b[0m \u001b[0;32mnot\u001b[0m \u001b[0mishashable\u001b[0m\u001b[0;34m(\u001b[0m\u001b[0marg\u001b[0m\u001b[0;34m)\u001b[0m\u001b[0;34m:\u001b[0m\u001b[0;34m\u001b[0m\u001b[0;34m\u001b[0m\u001b[0m\n\u001b[1;32m    123\u001b[0m         \u001b[0;32mreturn\u001b[0m \u001b[0marg\u001b[0m\u001b[0;34m\u001b[0m\u001b[0;34m\u001b[0m\u001b[0m\n",
      "\u001b[0;32m~/miniconda3/envs/greenland-ice-mapping/lib/python3.8/site-packages/dask/array/core.py\u001b[0m in \u001b[0;36mgetter\u001b[0;34m(a, b, asarray, lock)\u001b[0m\n\u001b[1;32m    100\u001b[0m         \u001b[0mc\u001b[0m \u001b[0;34m=\u001b[0m \u001b[0ma\u001b[0m\u001b[0;34m[\u001b[0m\u001b[0mb\u001b[0m\u001b[0;34m]\u001b[0m\u001b[0;34m\u001b[0m\u001b[0;34m\u001b[0m\u001b[0m\n\u001b[1;32m    101\u001b[0m         \u001b[0;32mif\u001b[0m \u001b[0masarray\u001b[0m\u001b[0;34m:\u001b[0m\u001b[0;34m\u001b[0m\u001b[0;34m\u001b[0m\u001b[0m\n\u001b[0;32m--> 102\u001b[0;31m             \u001b[0mc\u001b[0m \u001b[0;34m=\u001b[0m \u001b[0mnp\u001b[0m\u001b[0;34m.\u001b[0m\u001b[0masarray\u001b[0m\u001b[0;34m(\u001b[0m\u001b[0mc\u001b[0m\u001b[0;34m)\u001b[0m\u001b[0;34m\u001b[0m\u001b[0;34m\u001b[0m\u001b[0m\n\u001b[0m\u001b[1;32m    103\u001b[0m     \u001b[0;32mfinally\u001b[0m\u001b[0;34m:\u001b[0m\u001b[0;34m\u001b[0m\u001b[0;34m\u001b[0m\u001b[0m\n\u001b[1;32m    104\u001b[0m         \u001b[0;32mif\u001b[0m \u001b[0mlock\u001b[0m\u001b[0;34m:\u001b[0m\u001b[0;34m\u001b[0m\u001b[0;34m\u001b[0m\u001b[0m\n",
      "\u001b[0;32m~/miniconda3/envs/greenland-ice-mapping/lib/python3.8/site-packages/numpy/core/_asarray.py\u001b[0m in \u001b[0;36masarray\u001b[0;34m(a, dtype, order)\u001b[0m\n\u001b[1;32m     81\u001b[0m \u001b[0;34m\u001b[0m\u001b[0m\n\u001b[1;32m     82\u001b[0m     \"\"\"\n\u001b[0;32m---> 83\u001b[0;31m     \u001b[0;32mreturn\u001b[0m \u001b[0marray\u001b[0m\u001b[0;34m(\u001b[0m\u001b[0ma\u001b[0m\u001b[0;34m,\u001b[0m \u001b[0mdtype\u001b[0m\u001b[0;34m,\u001b[0m \u001b[0mcopy\u001b[0m\u001b[0;34m=\u001b[0m\u001b[0;32mFalse\u001b[0m\u001b[0;34m,\u001b[0m \u001b[0morder\u001b[0m\u001b[0;34m=\u001b[0m\u001b[0morder\u001b[0m\u001b[0;34m)\u001b[0m\u001b[0;34m\u001b[0m\u001b[0;34m\u001b[0m\u001b[0m\n\u001b[0m\u001b[1;32m     84\u001b[0m \u001b[0;34m\u001b[0m\u001b[0m\n\u001b[1;32m     85\u001b[0m \u001b[0;34m\u001b[0m\u001b[0m\n",
      "\u001b[0;32m~/miniconda3/envs/greenland-ice-mapping/lib/python3.8/site-packages/xarray/core/indexing.py\u001b[0m in \u001b[0;36m__array__\u001b[0;34m(self, dtype)\u001b[0m\n\u001b[1;32m    493\u001b[0m \u001b[0;34m\u001b[0m\u001b[0m\n\u001b[1;32m    494\u001b[0m     \u001b[0;32mdef\u001b[0m \u001b[0m__array__\u001b[0m\u001b[0;34m(\u001b[0m\u001b[0mself\u001b[0m\u001b[0;34m,\u001b[0m \u001b[0mdtype\u001b[0m\u001b[0;34m=\u001b[0m\u001b[0;32mNone\u001b[0m\u001b[0;34m)\u001b[0m\u001b[0;34m:\u001b[0m\u001b[0;34m\u001b[0m\u001b[0;34m\u001b[0m\u001b[0m\n\u001b[0;32m--> 495\u001b[0;31m         \u001b[0;32mreturn\u001b[0m \u001b[0mnp\u001b[0m\u001b[0;34m.\u001b[0m\u001b[0masarray\u001b[0m\u001b[0;34m(\u001b[0m\u001b[0mself\u001b[0m\u001b[0;34m.\u001b[0m\u001b[0marray\u001b[0m\u001b[0;34m,\u001b[0m \u001b[0mdtype\u001b[0m\u001b[0;34m=\u001b[0m\u001b[0mdtype\u001b[0m\u001b[0;34m)\u001b[0m\u001b[0;34m\u001b[0m\u001b[0;34m\u001b[0m\u001b[0m\n\u001b[0m\u001b[1;32m    496\u001b[0m \u001b[0;34m\u001b[0m\u001b[0m\n\u001b[1;32m    497\u001b[0m     \u001b[0;32mdef\u001b[0m \u001b[0m__getitem__\u001b[0m\u001b[0;34m(\u001b[0m\u001b[0mself\u001b[0m\u001b[0;34m,\u001b[0m \u001b[0mkey\u001b[0m\u001b[0;34m)\u001b[0m\u001b[0;34m:\u001b[0m\u001b[0;34m\u001b[0m\u001b[0;34m\u001b[0m\u001b[0m\n",
      "\u001b[0;32m~/miniconda3/envs/greenland-ice-mapping/lib/python3.8/site-packages/numpy/core/_asarray.py\u001b[0m in \u001b[0;36masarray\u001b[0;34m(a, dtype, order)\u001b[0m\n\u001b[1;32m     81\u001b[0m \u001b[0;34m\u001b[0m\u001b[0m\n\u001b[1;32m     82\u001b[0m     \"\"\"\n\u001b[0;32m---> 83\u001b[0;31m     \u001b[0;32mreturn\u001b[0m \u001b[0marray\u001b[0m\u001b[0;34m(\u001b[0m\u001b[0ma\u001b[0m\u001b[0;34m,\u001b[0m \u001b[0mdtype\u001b[0m\u001b[0;34m,\u001b[0m \u001b[0mcopy\u001b[0m\u001b[0;34m=\u001b[0m\u001b[0;32mFalse\u001b[0m\u001b[0;34m,\u001b[0m \u001b[0morder\u001b[0m\u001b[0;34m=\u001b[0m\u001b[0morder\u001b[0m\u001b[0;34m)\u001b[0m\u001b[0;34m\u001b[0m\u001b[0;34m\u001b[0m\u001b[0m\n\u001b[0m\u001b[1;32m     84\u001b[0m \u001b[0;34m\u001b[0m\u001b[0m\n\u001b[1;32m     85\u001b[0m \u001b[0;34m\u001b[0m\u001b[0m\n",
      "\u001b[0;32m~/miniconda3/envs/greenland-ice-mapping/lib/python3.8/site-packages/xarray/core/indexing.py\u001b[0m in \u001b[0;36m__array__\u001b[0;34m(self, dtype)\u001b[0m\n\u001b[1;32m    653\u001b[0m \u001b[0;34m\u001b[0m\u001b[0m\n\u001b[1;32m    654\u001b[0m     \u001b[0;32mdef\u001b[0m \u001b[0m__array__\u001b[0m\u001b[0;34m(\u001b[0m\u001b[0mself\u001b[0m\u001b[0;34m,\u001b[0m \u001b[0mdtype\u001b[0m\u001b[0;34m=\u001b[0m\u001b[0;32mNone\u001b[0m\u001b[0;34m)\u001b[0m\u001b[0;34m:\u001b[0m\u001b[0;34m\u001b[0m\u001b[0;34m\u001b[0m\u001b[0m\n\u001b[0;32m--> 655\u001b[0;31m         \u001b[0;32mreturn\u001b[0m \u001b[0mnp\u001b[0m\u001b[0;34m.\u001b[0m\u001b[0masarray\u001b[0m\u001b[0;34m(\u001b[0m\u001b[0mself\u001b[0m\u001b[0;34m.\u001b[0m\u001b[0marray\u001b[0m\u001b[0;34m,\u001b[0m \u001b[0mdtype\u001b[0m\u001b[0;34m=\u001b[0m\u001b[0mdtype\u001b[0m\u001b[0;34m)\u001b[0m\u001b[0;34m\u001b[0m\u001b[0;34m\u001b[0m\u001b[0m\n\u001b[0m\u001b[1;32m    656\u001b[0m \u001b[0;34m\u001b[0m\u001b[0m\n\u001b[1;32m    657\u001b[0m     \u001b[0;32mdef\u001b[0m \u001b[0m__getitem__\u001b[0m\u001b[0;34m(\u001b[0m\u001b[0mself\u001b[0m\u001b[0;34m,\u001b[0m \u001b[0mkey\u001b[0m\u001b[0;34m)\u001b[0m\u001b[0;34m:\u001b[0m\u001b[0;34m\u001b[0m\u001b[0;34m\u001b[0m\u001b[0m\n",
      "\u001b[0;32m~/miniconda3/envs/greenland-ice-mapping/lib/python3.8/site-packages/numpy/core/_asarray.py\u001b[0m in \u001b[0;36masarray\u001b[0;34m(a, dtype, order)\u001b[0m\n\u001b[1;32m     81\u001b[0m \u001b[0;34m\u001b[0m\u001b[0m\n\u001b[1;32m     82\u001b[0m     \"\"\"\n\u001b[0;32m---> 83\u001b[0;31m     \u001b[0;32mreturn\u001b[0m \u001b[0marray\u001b[0m\u001b[0;34m(\u001b[0m\u001b[0ma\u001b[0m\u001b[0;34m,\u001b[0m \u001b[0mdtype\u001b[0m\u001b[0;34m,\u001b[0m \u001b[0mcopy\u001b[0m\u001b[0;34m=\u001b[0m\u001b[0;32mFalse\u001b[0m\u001b[0;34m,\u001b[0m \u001b[0morder\u001b[0m\u001b[0;34m=\u001b[0m\u001b[0morder\u001b[0m\u001b[0;34m)\u001b[0m\u001b[0;34m\u001b[0m\u001b[0;34m\u001b[0m\u001b[0m\n\u001b[0m\u001b[1;32m     84\u001b[0m \u001b[0;34m\u001b[0m\u001b[0m\n\u001b[1;32m     85\u001b[0m \u001b[0;34m\u001b[0m\u001b[0m\n",
      "\u001b[0;32m~/miniconda3/envs/greenland-ice-mapping/lib/python3.8/site-packages/xarray/core/indexing.py\u001b[0m in \u001b[0;36m__array__\u001b[0;34m(self, dtype)\u001b[0m\n\u001b[1;32m    558\u001b[0m     \u001b[0;32mdef\u001b[0m \u001b[0m__array__\u001b[0m\u001b[0;34m(\u001b[0m\u001b[0mself\u001b[0m\u001b[0;34m,\u001b[0m \u001b[0mdtype\u001b[0m\u001b[0;34m=\u001b[0m\u001b[0;32mNone\u001b[0m\u001b[0;34m)\u001b[0m\u001b[0;34m:\u001b[0m\u001b[0;34m\u001b[0m\u001b[0;34m\u001b[0m\u001b[0m\n\u001b[1;32m    559\u001b[0m         \u001b[0marray\u001b[0m \u001b[0;34m=\u001b[0m \u001b[0mas_indexable\u001b[0m\u001b[0;34m(\u001b[0m\u001b[0mself\u001b[0m\u001b[0;34m.\u001b[0m\u001b[0marray\u001b[0m\u001b[0;34m)\u001b[0m\u001b[0;34m\u001b[0m\u001b[0;34m\u001b[0m\u001b[0m\n\u001b[0;32m--> 560\u001b[0;31m         \u001b[0;32mreturn\u001b[0m \u001b[0mnp\u001b[0m\u001b[0;34m.\u001b[0m\u001b[0masarray\u001b[0m\u001b[0;34m(\u001b[0m\u001b[0marray\u001b[0m\u001b[0;34m[\u001b[0m\u001b[0mself\u001b[0m\u001b[0;34m.\u001b[0m\u001b[0mkey\u001b[0m\u001b[0;34m]\u001b[0m\u001b[0;34m,\u001b[0m \u001b[0mdtype\u001b[0m\u001b[0;34m=\u001b[0m\u001b[0;32mNone\u001b[0m\u001b[0;34m)\u001b[0m\u001b[0;34m\u001b[0m\u001b[0;34m\u001b[0m\u001b[0m\n\u001b[0m\u001b[1;32m    561\u001b[0m \u001b[0;34m\u001b[0m\u001b[0m\n\u001b[1;32m    562\u001b[0m     \u001b[0;32mdef\u001b[0m \u001b[0mtranspose\u001b[0m\u001b[0;34m(\u001b[0m\u001b[0mself\u001b[0m\u001b[0;34m,\u001b[0m \u001b[0morder\u001b[0m\u001b[0;34m)\u001b[0m\u001b[0;34m:\u001b[0m\u001b[0;34m\u001b[0m\u001b[0;34m\u001b[0m\u001b[0m\n",
      "\u001b[0;32m~/miniconda3/envs/greenland-ice-mapping/lib/python3.8/site-packages/xarray/backends/rasterio_.py\u001b[0m in \u001b[0;36m__getitem__\u001b[0;34m(self, key)\u001b[0m\n\u001b[1;32m    128\u001b[0m \u001b[0;34m\u001b[0m\u001b[0m\n\u001b[1;32m    129\u001b[0m     \u001b[0;32mdef\u001b[0m \u001b[0m__getitem__\u001b[0m\u001b[0;34m(\u001b[0m\u001b[0mself\u001b[0m\u001b[0;34m,\u001b[0m \u001b[0mkey\u001b[0m\u001b[0;34m)\u001b[0m\u001b[0;34m:\u001b[0m\u001b[0;34m\u001b[0m\u001b[0;34m\u001b[0m\u001b[0m\n\u001b[0;32m--> 130\u001b[0;31m         return indexing.explicit_indexing_adapter(\n\u001b[0m\u001b[1;32m    131\u001b[0m             \u001b[0mkey\u001b[0m\u001b[0;34m,\u001b[0m \u001b[0mself\u001b[0m\u001b[0;34m.\u001b[0m\u001b[0mshape\u001b[0m\u001b[0;34m,\u001b[0m \u001b[0mindexing\u001b[0m\u001b[0;34m.\u001b[0m\u001b[0mIndexingSupport\u001b[0m\u001b[0;34m.\u001b[0m\u001b[0mOUTER\u001b[0m\u001b[0;34m,\u001b[0m \u001b[0mself\u001b[0m\u001b[0;34m.\u001b[0m\u001b[0m_getitem\u001b[0m\u001b[0;34m\u001b[0m\u001b[0;34m\u001b[0m\u001b[0m\n\u001b[1;32m    132\u001b[0m         )\n",
      "\u001b[0;32m~/miniconda3/envs/greenland-ice-mapping/lib/python3.8/site-packages/xarray/core/indexing.py\u001b[0m in \u001b[0;36mexplicit_indexing_adapter\u001b[0;34m(key, shape, indexing_support, raw_indexing_method)\u001b[0m\n\u001b[1;32m    843\u001b[0m     \"\"\"\n\u001b[1;32m    844\u001b[0m     \u001b[0mraw_key\u001b[0m\u001b[0;34m,\u001b[0m \u001b[0mnumpy_indices\u001b[0m \u001b[0;34m=\u001b[0m \u001b[0mdecompose_indexer\u001b[0m\u001b[0;34m(\u001b[0m\u001b[0mkey\u001b[0m\u001b[0;34m,\u001b[0m \u001b[0mshape\u001b[0m\u001b[0;34m,\u001b[0m \u001b[0mindexing_support\u001b[0m\u001b[0;34m)\u001b[0m\u001b[0;34m\u001b[0m\u001b[0;34m\u001b[0m\u001b[0m\n\u001b[0;32m--> 845\u001b[0;31m     \u001b[0mresult\u001b[0m \u001b[0;34m=\u001b[0m \u001b[0mraw_indexing_method\u001b[0m\u001b[0;34m(\u001b[0m\u001b[0mraw_key\u001b[0m\u001b[0;34m.\u001b[0m\u001b[0mtuple\u001b[0m\u001b[0;34m)\u001b[0m\u001b[0;34m\u001b[0m\u001b[0;34m\u001b[0m\u001b[0m\n\u001b[0m\u001b[1;32m    846\u001b[0m     \u001b[0;32mif\u001b[0m \u001b[0mnumpy_indices\u001b[0m\u001b[0;34m.\u001b[0m\u001b[0mtuple\u001b[0m\u001b[0;34m:\u001b[0m\u001b[0;34m\u001b[0m\u001b[0;34m\u001b[0m\u001b[0m\n\u001b[1;32m    847\u001b[0m         \u001b[0;31m# index the loaded np.ndarray\u001b[0m\u001b[0;34m\u001b[0m\u001b[0;34m\u001b[0m\u001b[0;34m\u001b[0m\u001b[0m\n",
      "\u001b[0;32m~/miniconda3/envs/greenland-ice-mapping/lib/python3.8/site-packages/xarray/backends/rasterio_.py\u001b[0m in \u001b[0;36m_getitem\u001b[0;34m(self, key)\u001b[0m\n\u001b[1;32m    121\u001b[0m                 \u001b[0;32mif\u001b[0m \u001b[0mself\u001b[0m\u001b[0;34m.\u001b[0m\u001b[0mvrt_params\u001b[0m \u001b[0;32mis\u001b[0m \u001b[0;32mnot\u001b[0m \u001b[0;32mNone\u001b[0m\u001b[0;34m:\u001b[0m\u001b[0;34m\u001b[0m\u001b[0;34m\u001b[0m\u001b[0m\n\u001b[1;32m    122\u001b[0m                     \u001b[0mriods\u001b[0m \u001b[0;34m=\u001b[0m \u001b[0mWarpedVRT\u001b[0m\u001b[0;34m(\u001b[0m\u001b[0mriods\u001b[0m\u001b[0;34m,\u001b[0m \u001b[0;34m**\u001b[0m\u001b[0mself\u001b[0m\u001b[0;34m.\u001b[0m\u001b[0mvrt_params\u001b[0m\u001b[0;34m)\u001b[0m\u001b[0;34m\u001b[0m\u001b[0;34m\u001b[0m\u001b[0m\n\u001b[0;32m--> 123\u001b[0;31m                 \u001b[0mout\u001b[0m \u001b[0;34m=\u001b[0m \u001b[0mriods\u001b[0m\u001b[0;34m.\u001b[0m\u001b[0mread\u001b[0m\u001b[0;34m(\u001b[0m\u001b[0mband_key\u001b[0m\u001b[0;34m,\u001b[0m \u001b[0mwindow\u001b[0m\u001b[0;34m=\u001b[0m\u001b[0mwindow\u001b[0m\u001b[0;34m)\u001b[0m\u001b[0;34m\u001b[0m\u001b[0;34m\u001b[0m\u001b[0m\n\u001b[0m\u001b[1;32m    124\u001b[0m \u001b[0;34m\u001b[0m\u001b[0m\n\u001b[1;32m    125\u001b[0m         \u001b[0;32mif\u001b[0m \u001b[0msqueeze_axis\u001b[0m\u001b[0;34m:\u001b[0m\u001b[0;34m\u001b[0m\u001b[0;34m\u001b[0m\u001b[0m\n",
      "\u001b[0;32mrasterio/_io.pyx\u001b[0m in \u001b[0;36mrasterio._io.DatasetReaderBase.read\u001b[0;34m()\u001b[0m\n",
      "\u001b[0;32mrasterio/_io.pyx\u001b[0m in \u001b[0;36mrasterio._io.DatasetReaderBase._read\u001b[0;34m()\u001b[0m\n",
      "\u001b[0;31mRasterioIOError\u001b[0m: Read or write failed. /vsicurl/https://n5eil01u.ecs.nsidc.org/DP4/MEASURES/NSIDC-0723.003/2019.12.30/GL_S1bks_mosaic_30Dec19_04Jan20_gamma0_50m_v03.0.tif, band 1: IReadBlock failed at X offset 14, Y offset 63: TIFFReadEncodedTile() failed."
     ]
    }
   ],
   "source": [
    "%%time\n",
    "subset.data.persist()"
   ]
  },
  {
   "cell_type": "code",
   "execution_count": 14,
   "metadata": {},
   "outputs": [
    {
     "name": "stdout",
     "output_type": "stream",
     "text": [
      "CPU times: user 5.78 ms, sys: 1.18 ms, total: 6.96 ms\n",
      "Wall time: 5.91 ms\n"
     ]
    },
    {
     "data": {
      "text/html": [
       "<table>\n",
       "<tr>\n",
       "<td>\n",
       "<table>\n",
       "  <thead>\n",
       "    <tr><td> </td><th> Array </th><th> Chunk </th></tr>\n",
       "  </thead>\n",
       "  <tbody>\n",
       "    <tr><th> Bytes </th><td> 62.84 GB </td> <td> 60.46 MB </td></tr>\n",
       "    <tr><th> Shape </th><td> (10, 53220, 29520) </td> <td> (1, 512, 29520) </td></tr>\n",
       "    <tr><th> Count </th><td> 1041 Tasks </td><td> 1040 Chunks </td></tr>\n",
       "    <tr><th> Type </th><td> float32 </td><td> numpy.ndarray </td></tr>\n",
       "  </tbody>\n",
       "</table>\n",
       "</td>\n",
       "<td>\n",
       "<svg width=\"141\" height=\"184\" style=\"stroke:rgb(0,0,0);stroke-width:1\" >\n",
       "\n",
       "  <!-- Horizontal lines -->\n",
       "  <line x1=\"10\" y1=\"0\" x2=\"24\" y2=\"14\" style=\"stroke-width:2\" />\n",
       "  <line x1=\"10\" y1=\"5\" x2=\"24\" y2=\"20\" />\n",
       "  <line x1=\"10\" y1=\"11\" x2=\"24\" y2=\"26\" />\n",
       "  <line x1=\"10\" y1=\"18\" x2=\"24\" y2=\"33\" />\n",
       "  <line x1=\"10\" y1=\"24\" x2=\"24\" y2=\"39\" />\n",
       "  <line x1=\"10\" y1=\"31\" x2=\"24\" y2=\"46\" />\n",
       "  <line x1=\"10\" y1=\"36\" x2=\"24\" y2=\"51\" />\n",
       "  <line x1=\"10\" y1=\"43\" x2=\"24\" y2=\"58\" />\n",
       "  <line x1=\"10\" y1=\"49\" x2=\"24\" y2=\"64\" />\n",
       "  <line x1=\"10\" y1=\"56\" x2=\"24\" y2=\"71\" />\n",
       "  <line x1=\"10\" y1=\"62\" x2=\"24\" y2=\"77\" />\n",
       "  <line x1=\"10\" y1=\"69\" x2=\"24\" y2=\"84\" />\n",
       "  <line x1=\"10\" y1=\"75\" x2=\"24\" y2=\"89\" />\n",
       "  <line x1=\"10\" y1=\"81\" x2=\"24\" y2=\"96\" />\n",
       "  <line x1=\"10\" y1=\"87\" x2=\"24\" y2=\"102\" />\n",
       "  <line x1=\"10\" y1=\"94\" x2=\"24\" y2=\"109\" />\n",
       "  <line x1=\"10\" y1=\"100\" x2=\"24\" y2=\"115\" />\n",
       "  <line x1=\"10\" y1=\"107\" x2=\"24\" y2=\"122\" />\n",
       "  <line x1=\"10\" y1=\"113\" x2=\"24\" y2=\"128\" />\n",
       "  <line x1=\"10\" y1=\"120\" x2=\"24\" y2=\"134\" style=\"stroke-width:2\" />\n",
       "\n",
       "  <!-- Vertical lines -->\n",
       "  <line x1=\"10\" y1=\"0\" x2=\"10\" y2=\"120\" style=\"stroke-width:2\" />\n",
       "  <line x1=\"11\" y1=\"1\" x2=\"11\" y2=\"121\" />\n",
       "  <line x1=\"12\" y1=\"2\" x2=\"12\" y2=\"122\" />\n",
       "  <line x1=\"14\" y1=\"4\" x2=\"14\" y2=\"124\" />\n",
       "  <line x1=\"15\" y1=\"5\" x2=\"15\" y2=\"125\" />\n",
       "  <line x1=\"17\" y1=\"7\" x2=\"17\" y2=\"127\" />\n",
       "  <line x1=\"18\" y1=\"8\" x2=\"18\" y2=\"128\" />\n",
       "  <line x1=\"20\" y1=\"10\" x2=\"20\" y2=\"130\" />\n",
       "  <line x1=\"21\" y1=\"11\" x2=\"21\" y2=\"131\" />\n",
       "  <line x1=\"23\" y1=\"13\" x2=\"23\" y2=\"133\" />\n",
       "  <line x1=\"24\" y1=\"14\" x2=\"24\" y2=\"134\" style=\"stroke-width:2\" />\n",
       "\n",
       "  <!-- Colored Rectangle -->\n",
       "  <polygon points=\"10.0,0.0 24.9485979497544,14.948597949754403 24.9485979497544,134.9485979497544 10.0,120.0\" style=\"fill:#8B4903A0;stroke-width:0\"/>\n",
       "\n",
       "  <!-- Horizontal lines -->\n",
       "  <line x1=\"10\" y1=\"0\" x2=\"76\" y2=\"0\" style=\"stroke-width:2\" />\n",
       "  <line x1=\"11\" y1=\"1\" x2=\"78\" y2=\"1\" />\n",
       "  <line x1=\"12\" y1=\"2\" x2=\"79\" y2=\"2\" />\n",
       "  <line x1=\"14\" y1=\"4\" x2=\"81\" y2=\"4\" />\n",
       "  <line x1=\"15\" y1=\"5\" x2=\"82\" y2=\"5\" />\n",
       "  <line x1=\"17\" y1=\"7\" x2=\"84\" y2=\"7\" />\n",
       "  <line x1=\"18\" y1=\"8\" x2=\"85\" y2=\"8\" />\n",
       "  <line x1=\"20\" y1=\"10\" x2=\"87\" y2=\"10\" />\n",
       "  <line x1=\"21\" y1=\"11\" x2=\"88\" y2=\"11\" />\n",
       "  <line x1=\"23\" y1=\"13\" x2=\"90\" y2=\"13\" />\n",
       "  <line x1=\"24\" y1=\"14\" x2=\"91\" y2=\"14\" style=\"stroke-width:2\" />\n",
       "\n",
       "  <!-- Vertical lines -->\n",
       "  <line x1=\"10\" y1=\"0\" x2=\"24\" y2=\"14\" style=\"stroke-width:2\" />\n",
       "  <line x1=\"76\" y1=\"0\" x2=\"91\" y2=\"14\" style=\"stroke-width:2\" />\n",
       "\n",
       "  <!-- Colored Rectangle -->\n",
       "  <polygon points=\"10.0,0.0 76.56144306651635,0.0 91.51004101627075,14.948597949754403 24.9485979497544,14.948597949754403\" style=\"fill:#ECB172A0;stroke-width:0\"/>\n",
       "\n",
       "  <!-- Horizontal lines -->\n",
       "  <line x1=\"24\" y1=\"14\" x2=\"91\" y2=\"14\" style=\"stroke-width:2\" />\n",
       "  <line x1=\"24\" y1=\"20\" x2=\"91\" y2=\"20\" />\n",
       "  <line x1=\"24\" y1=\"26\" x2=\"91\" y2=\"26\" />\n",
       "  <line x1=\"24\" y1=\"33\" x2=\"91\" y2=\"33\" />\n",
       "  <line x1=\"24\" y1=\"39\" x2=\"91\" y2=\"39\" />\n",
       "  <line x1=\"24\" y1=\"46\" x2=\"91\" y2=\"46\" />\n",
       "  <line x1=\"24\" y1=\"51\" x2=\"91\" y2=\"51\" />\n",
       "  <line x1=\"24\" y1=\"58\" x2=\"91\" y2=\"58\" />\n",
       "  <line x1=\"24\" y1=\"64\" x2=\"91\" y2=\"64\" />\n",
       "  <line x1=\"24\" y1=\"71\" x2=\"91\" y2=\"71\" />\n",
       "  <line x1=\"24\" y1=\"77\" x2=\"91\" y2=\"77\" />\n",
       "  <line x1=\"24\" y1=\"84\" x2=\"91\" y2=\"84\" />\n",
       "  <line x1=\"24\" y1=\"89\" x2=\"91\" y2=\"89\" />\n",
       "  <line x1=\"24\" y1=\"96\" x2=\"91\" y2=\"96\" />\n",
       "  <line x1=\"24\" y1=\"102\" x2=\"91\" y2=\"102\" />\n",
       "  <line x1=\"24\" y1=\"109\" x2=\"91\" y2=\"109\" />\n",
       "  <line x1=\"24\" y1=\"115\" x2=\"91\" y2=\"115\" />\n",
       "  <line x1=\"24\" y1=\"122\" x2=\"91\" y2=\"122\" />\n",
       "  <line x1=\"24\" y1=\"128\" x2=\"91\" y2=\"128\" />\n",
       "  <line x1=\"24\" y1=\"134\" x2=\"91\" y2=\"134\" style=\"stroke-width:2\" />\n",
       "\n",
       "  <!-- Vertical lines -->\n",
       "  <line x1=\"24\" y1=\"14\" x2=\"24\" y2=\"134\" style=\"stroke-width:2\" />\n",
       "  <line x1=\"91\" y1=\"14\" x2=\"91\" y2=\"134\" style=\"stroke-width:2\" />\n",
       "\n",
       "  <!-- Colored Rectangle -->\n",
       "  <polygon points=\"24.9485979497544,14.948597949754403 91.51004101627075,14.948597949754403 91.51004101627075,134.9485979497544 24.9485979497544,134.9485979497544\" style=\"fill:#8B4903A0;stroke-width:0\"/>\n",
       "\n",
       "  <!-- Text -->\n",
       "  <text x=\"58.229319\" y=\"154.948598\" font-size=\"1.0rem\" font-weight=\"100\" text-anchor=\"middle\" >29520</text>\n",
       "  <text x=\"111.510041\" y=\"74.948598\" font-size=\"1.0rem\" font-weight=\"100\" text-anchor=\"middle\" transform=\"rotate(-90,111.510041,74.948598)\">53220</text>\n",
       "  <text x=\"7.474299\" y=\"147.474299\" font-size=\"1.0rem\" font-weight=\"100\" text-anchor=\"middle\" transform=\"rotate(45,7.474299,147.474299)\">10</text>\n",
       "</svg>\n",
       "</td>\n",
       "</tr>\n",
       "</table>"
      ],
      "text/plain": [
       "dask.array<open_rasterio-e019a99e75d407bba175d58cf8f6d8ec<this-array>, shape=(10, 53220, 29520), dtype=float32, chunksize=(1, 512, 29520), chunktype=numpy.ndarray>"
      ]
     },
     "execution_count": 14,
     "metadata": {},
     "output_type": "execute_result"
    }
   ],
   "source": [
    "%%time\n",
    "\n",
    "da = xr.open_rasterio('aws.vrt', chunks=dict(band=1, x=29520, y=512)) #ensure data loaded as dask arrays\n",
    "da.data"
   ]
  },
  {
   "cell_type": "code",
   "execution_count": 15,
   "metadata": {},
   "outputs": [
    {
     "data": {
      "text/html": [
       "<table>\n",
       "<tr>\n",
       "<td>\n",
       "<table>\n",
       "  <thead>\n",
       "    <tr><td> </td><th> Array </th><th> Chunk </th></tr>\n",
       "  </thead>\n",
       "  <tbody>\n",
       "    <tr><th> Bytes </th><td> 242.35 MB </td> <td> 6.89 MB </td></tr>\n",
       "    <tr><th> Shape </th><td> (10, 1800, 3366) </td> <td> (1, 512, 3366) </td></tr>\n",
       "    <tr><th> Count </th><td> 1091 Tasks </td><td> 50 Chunks </td></tr>\n",
       "    <tr><th> Type </th><td> float32 </td><td> numpy.ndarray </td></tr>\n",
       "  </tbody>\n",
       "</table>\n",
       "</td>\n",
       "<td>\n",
       "<svg width=\"194\" height=\"129\" style=\"stroke:rgb(0,0,0);stroke-width:1\" >\n",
       "\n",
       "  <!-- Horizontal lines -->\n",
       "  <line x1=\"10\" y1=\"0\" x2=\"24\" y2=\"14\" style=\"stroke-width:2\" />\n",
       "  <line x1=\"10\" y1=\"7\" x2=\"24\" y2=\"22\" />\n",
       "  <line x1=\"10\" y1=\"26\" x2=\"24\" y2=\"41\" />\n",
       "  <line x1=\"10\" y1=\"44\" x2=\"24\" y2=\"59\" />\n",
       "  <line x1=\"10\" y1=\"62\" x2=\"24\" y2=\"77\" />\n",
       "  <line x1=\"10\" y1=\"64\" x2=\"24\" y2=\"79\" style=\"stroke-width:2\" />\n",
       "\n",
       "  <!-- Vertical lines -->\n",
       "  <line x1=\"10\" y1=\"0\" x2=\"10\" y2=\"64\" style=\"stroke-width:2\" />\n",
       "  <line x1=\"11\" y1=\"1\" x2=\"11\" y2=\"65\" />\n",
       "  <line x1=\"12\" y1=\"2\" x2=\"12\" y2=\"67\" />\n",
       "  <line x1=\"14\" y1=\"4\" x2=\"14\" y2=\"68\" />\n",
       "  <line x1=\"15\" y1=\"5\" x2=\"15\" y2=\"70\" />\n",
       "  <line x1=\"17\" y1=\"7\" x2=\"17\" y2=\"71\" />\n",
       "  <line x1=\"18\" y1=\"8\" x2=\"18\" y2=\"73\" />\n",
       "  <line x1=\"20\" y1=\"10\" x2=\"20\" y2=\"74\" />\n",
       "  <line x1=\"21\" y1=\"11\" x2=\"21\" y2=\"76\" />\n",
       "  <line x1=\"23\" y1=\"13\" x2=\"23\" y2=\"77\" />\n",
       "  <line x1=\"24\" y1=\"14\" x2=\"24\" y2=\"79\" style=\"stroke-width:2\" />\n",
       "\n",
       "  <!-- Colored Rectangle -->\n",
       "  <polygon points=\"10.0,0.0 24.9485979497544,14.948597949754403 24.9485979497544,79.11972094440681 10.0,64.1711229946524\" style=\"fill:#ECB172A0;stroke-width:0\"/>\n",
       "\n",
       "  <!-- Horizontal lines -->\n",
       "  <line x1=\"10\" y1=\"0\" x2=\"130\" y2=\"0\" style=\"stroke-width:2\" />\n",
       "  <line x1=\"11\" y1=\"1\" x2=\"131\" y2=\"1\" />\n",
       "  <line x1=\"12\" y1=\"2\" x2=\"132\" y2=\"2\" />\n",
       "  <line x1=\"14\" y1=\"4\" x2=\"134\" y2=\"4\" />\n",
       "  <line x1=\"15\" y1=\"5\" x2=\"135\" y2=\"5\" />\n",
       "  <line x1=\"17\" y1=\"7\" x2=\"137\" y2=\"7\" />\n",
       "  <line x1=\"18\" y1=\"8\" x2=\"138\" y2=\"8\" />\n",
       "  <line x1=\"20\" y1=\"10\" x2=\"140\" y2=\"10\" />\n",
       "  <line x1=\"21\" y1=\"11\" x2=\"141\" y2=\"11\" />\n",
       "  <line x1=\"23\" y1=\"13\" x2=\"143\" y2=\"13\" />\n",
       "  <line x1=\"24\" y1=\"14\" x2=\"144\" y2=\"14\" style=\"stroke-width:2\" />\n",
       "\n",
       "  <!-- Vertical lines -->\n",
       "  <line x1=\"10\" y1=\"0\" x2=\"24\" y2=\"14\" style=\"stroke-width:2\" />\n",
       "  <line x1=\"130\" y1=\"0\" x2=\"144\" y2=\"14\" style=\"stroke-width:2\" />\n",
       "\n",
       "  <!-- Colored Rectangle -->\n",
       "  <polygon points=\"10.0,0.0 130.0,0.0 144.9485979497544,14.948597949754403 24.9485979497544,14.948597949754403\" style=\"fill:#ECB172A0;stroke-width:0\"/>\n",
       "\n",
       "  <!-- Horizontal lines -->\n",
       "  <line x1=\"24\" y1=\"14\" x2=\"144\" y2=\"14\" style=\"stroke-width:2\" />\n",
       "  <line x1=\"24\" y1=\"22\" x2=\"144\" y2=\"22\" />\n",
       "  <line x1=\"24\" y1=\"41\" x2=\"144\" y2=\"41\" />\n",
       "  <line x1=\"24\" y1=\"59\" x2=\"144\" y2=\"59\" />\n",
       "  <line x1=\"24\" y1=\"77\" x2=\"144\" y2=\"77\" />\n",
       "  <line x1=\"24\" y1=\"79\" x2=\"144\" y2=\"79\" style=\"stroke-width:2\" />\n",
       "\n",
       "  <!-- Vertical lines -->\n",
       "  <line x1=\"24\" y1=\"14\" x2=\"24\" y2=\"79\" style=\"stroke-width:2\" />\n",
       "  <line x1=\"144\" y1=\"14\" x2=\"144\" y2=\"79\" style=\"stroke-width:2\" />\n",
       "\n",
       "  <!-- Colored Rectangle -->\n",
       "  <polygon points=\"24.9485979497544,14.948597949754403 144.9485979497544,14.948597949754403 144.9485979497544,79.11972094440681 24.9485979497544,79.11972094440681\" style=\"fill:#ECB172A0;stroke-width:0\"/>\n",
       "\n",
       "  <!-- Text -->\n",
       "  <text x=\"84.948598\" y=\"99.119721\" font-size=\"1.0rem\" font-weight=\"100\" text-anchor=\"middle\" >3366</text>\n",
       "  <text x=\"164.948598\" y=\"47.034159\" font-size=\"1.0rem\" font-weight=\"100\" text-anchor=\"middle\" transform=\"rotate(-90,164.948598,47.034159)\">1800</text>\n",
       "  <text x=\"7.474299\" y=\"91.645422\" font-size=\"1.0rem\" font-weight=\"100\" text-anchor=\"middle\" transform=\"rotate(45,7.474299,91.645422)\">10</text>\n",
       "</svg>\n",
       "</td>\n",
       "</tr>\n",
       "</table>"
      ],
      "text/plain": [
       "dask.array<getitem, shape=(10, 1800, 3366), dtype=float32, chunksize=(1, 512, 3366), chunktype=numpy.ndarray>"
      ]
     },
     "execution_count": 15,
     "metadata": {},
     "output_type": "execute_result"
    }
   ],
   "source": [
    "subset = da.sel(x=slice(-256677, -88385), y=slice(-2.22e6, -2.31e6))\n",
    "subset.data"
   ]
  },
  {
   "cell_type": "code",
   "execution_count": 16,
   "metadata": {},
   "outputs": [
    {
     "name": "stdout",
     "output_type": "stream",
     "text": [
      "CPU times: user 4.25 s, sys: 1.15 s, total: 5.41 s\n",
      "Wall time: 18.9 s\n"
     ]
    },
    {
     "data": {
      "text/html": [
       "<table>\n",
       "<tr>\n",
       "<td>\n",
       "<table>\n",
       "  <thead>\n",
       "    <tr><td> </td><th> Array </th><th> Chunk </th></tr>\n",
       "  </thead>\n",
       "  <tbody>\n",
       "    <tr><th> Bytes </th><td> 242.35 MB </td> <td> 6.89 MB </td></tr>\n",
       "    <tr><th> Shape </th><td> (10, 1800, 3366) </td> <td> (1, 512, 3366) </td></tr>\n",
       "    <tr><th> Count </th><td> 50 Tasks </td><td> 50 Chunks </td></tr>\n",
       "    <tr><th> Type </th><td> float32 </td><td> numpy.ndarray </td></tr>\n",
       "  </tbody>\n",
       "</table>\n",
       "</td>\n",
       "<td>\n",
       "<svg width=\"194\" height=\"129\" style=\"stroke:rgb(0,0,0);stroke-width:1\" >\n",
       "\n",
       "  <!-- Horizontal lines -->\n",
       "  <line x1=\"10\" y1=\"0\" x2=\"24\" y2=\"14\" style=\"stroke-width:2\" />\n",
       "  <line x1=\"10\" y1=\"7\" x2=\"24\" y2=\"22\" />\n",
       "  <line x1=\"10\" y1=\"26\" x2=\"24\" y2=\"41\" />\n",
       "  <line x1=\"10\" y1=\"44\" x2=\"24\" y2=\"59\" />\n",
       "  <line x1=\"10\" y1=\"62\" x2=\"24\" y2=\"77\" />\n",
       "  <line x1=\"10\" y1=\"64\" x2=\"24\" y2=\"79\" style=\"stroke-width:2\" />\n",
       "\n",
       "  <!-- Vertical lines -->\n",
       "  <line x1=\"10\" y1=\"0\" x2=\"10\" y2=\"64\" style=\"stroke-width:2\" />\n",
       "  <line x1=\"11\" y1=\"1\" x2=\"11\" y2=\"65\" />\n",
       "  <line x1=\"12\" y1=\"2\" x2=\"12\" y2=\"67\" />\n",
       "  <line x1=\"14\" y1=\"4\" x2=\"14\" y2=\"68\" />\n",
       "  <line x1=\"15\" y1=\"5\" x2=\"15\" y2=\"70\" />\n",
       "  <line x1=\"17\" y1=\"7\" x2=\"17\" y2=\"71\" />\n",
       "  <line x1=\"18\" y1=\"8\" x2=\"18\" y2=\"73\" />\n",
       "  <line x1=\"20\" y1=\"10\" x2=\"20\" y2=\"74\" />\n",
       "  <line x1=\"21\" y1=\"11\" x2=\"21\" y2=\"76\" />\n",
       "  <line x1=\"23\" y1=\"13\" x2=\"23\" y2=\"77\" />\n",
       "  <line x1=\"24\" y1=\"14\" x2=\"24\" y2=\"79\" style=\"stroke-width:2\" />\n",
       "\n",
       "  <!-- Colored Rectangle -->\n",
       "  <polygon points=\"10.0,0.0 24.9485979497544,14.948597949754403 24.9485979497544,79.11972094440681 10.0,64.1711229946524\" style=\"fill:#ECB172A0;stroke-width:0\"/>\n",
       "\n",
       "  <!-- Horizontal lines -->\n",
       "  <line x1=\"10\" y1=\"0\" x2=\"130\" y2=\"0\" style=\"stroke-width:2\" />\n",
       "  <line x1=\"11\" y1=\"1\" x2=\"131\" y2=\"1\" />\n",
       "  <line x1=\"12\" y1=\"2\" x2=\"132\" y2=\"2\" />\n",
       "  <line x1=\"14\" y1=\"4\" x2=\"134\" y2=\"4\" />\n",
       "  <line x1=\"15\" y1=\"5\" x2=\"135\" y2=\"5\" />\n",
       "  <line x1=\"17\" y1=\"7\" x2=\"137\" y2=\"7\" />\n",
       "  <line x1=\"18\" y1=\"8\" x2=\"138\" y2=\"8\" />\n",
       "  <line x1=\"20\" y1=\"10\" x2=\"140\" y2=\"10\" />\n",
       "  <line x1=\"21\" y1=\"11\" x2=\"141\" y2=\"11\" />\n",
       "  <line x1=\"23\" y1=\"13\" x2=\"143\" y2=\"13\" />\n",
       "  <line x1=\"24\" y1=\"14\" x2=\"144\" y2=\"14\" style=\"stroke-width:2\" />\n",
       "\n",
       "  <!-- Vertical lines -->\n",
       "  <line x1=\"10\" y1=\"0\" x2=\"24\" y2=\"14\" style=\"stroke-width:2\" />\n",
       "  <line x1=\"130\" y1=\"0\" x2=\"144\" y2=\"14\" style=\"stroke-width:2\" />\n",
       "\n",
       "  <!-- Colored Rectangle -->\n",
       "  <polygon points=\"10.0,0.0 130.0,0.0 144.9485979497544,14.948597949754403 24.9485979497544,14.948597949754403\" style=\"fill:#ECB172A0;stroke-width:0\"/>\n",
       "\n",
       "  <!-- Horizontal lines -->\n",
       "  <line x1=\"24\" y1=\"14\" x2=\"144\" y2=\"14\" style=\"stroke-width:2\" />\n",
       "  <line x1=\"24\" y1=\"22\" x2=\"144\" y2=\"22\" />\n",
       "  <line x1=\"24\" y1=\"41\" x2=\"144\" y2=\"41\" />\n",
       "  <line x1=\"24\" y1=\"59\" x2=\"144\" y2=\"59\" />\n",
       "  <line x1=\"24\" y1=\"77\" x2=\"144\" y2=\"77\" />\n",
       "  <line x1=\"24\" y1=\"79\" x2=\"144\" y2=\"79\" style=\"stroke-width:2\" />\n",
       "\n",
       "  <!-- Vertical lines -->\n",
       "  <line x1=\"24\" y1=\"14\" x2=\"24\" y2=\"79\" style=\"stroke-width:2\" />\n",
       "  <line x1=\"144\" y1=\"14\" x2=\"144\" y2=\"79\" style=\"stroke-width:2\" />\n",
       "\n",
       "  <!-- Colored Rectangle -->\n",
       "  <polygon points=\"24.9485979497544,14.948597949754403 144.9485979497544,14.948597949754403 144.9485979497544,79.11972094440681 24.9485979497544,79.11972094440681\" style=\"fill:#ECB172A0;stroke-width:0\"/>\n",
       "\n",
       "  <!-- Text -->\n",
       "  <text x=\"84.948598\" y=\"99.119721\" font-size=\"1.0rem\" font-weight=\"100\" text-anchor=\"middle\" >3366</text>\n",
       "  <text x=\"164.948598\" y=\"47.034159\" font-size=\"1.0rem\" font-weight=\"100\" text-anchor=\"middle\" transform=\"rotate(-90,164.948598,47.034159)\">1800</text>\n",
       "  <text x=\"7.474299\" y=\"91.645422\" font-size=\"1.0rem\" font-weight=\"100\" text-anchor=\"middle\" transform=\"rotate(45,7.474299,91.645422)\">10</text>\n",
       "</svg>\n",
       "</td>\n",
       "</tr>\n",
       "</table>"
      ],
      "text/plain": [
       "dask.array<getitem, shape=(10, 1800, 3366), dtype=float32, chunksize=(1, 512, 3366), chunktype=numpy.ndarray>"
      ]
     },
     "execution_count": 16,
     "metadata": {},
     "output_type": "execute_result"
    }
   ],
   "source": [
    "%%time\n",
    "subset.data.persist()"
   ]
  },
  {
   "cell_type": "code",
   "execution_count": null,
   "metadata": {},
   "outputs": [],
   "source": []
  }
 ],
 "metadata": {
  "kernelspec": {
   "display_name": "Python 3",
   "language": "python",
   "name": "python3"
  },
  "language_info": {
   "codemirror_mode": {
    "name": "ipython",
    "version": 3
   },
   "file_extension": ".py",
   "mimetype": "text/x-python",
   "name": "python",
   "nbconvert_exporter": "python",
   "pygments_lexer": "ipython3",
   "version": "3.8.6"
  }
 },
 "nbformat": 4,
 "nbformat_minor": 4
}
