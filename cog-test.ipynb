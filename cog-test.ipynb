{
 "cells": [
  {
   "cell_type": "markdown",
   "metadata": {},
   "source": [
    "# Test performance of NSIDC 0723 COGs"
   ]
  },
  {
   "cell_type": "code",
   "execution_count": 1,
   "metadata": {},
   "outputs": [],
   "source": [
    "# 1) get list of 10 COGS for testing\n",
    "cog_urls = ''' \n",
    "https://n5eil01u.ecs.nsidc.org/DP4/MEASURES/NSIDC-0723.003/2019.12.30/GL_S1bks_mosaic_30Dec19_04Jan20_gamma0_50m_v03.0.tif\n",
    "https://n5eil01u.ecs.nsidc.org/DP4/MEASURES/NSIDC-0723.003/2020.01.05/GL_S1bks_mosaic_05Jan20_10Jan20_gamma0_50m_v03.0.tif\n",
    "https://n5eil01u.ecs.nsidc.org/DP4/MEASURES/NSIDC-0723.003/2020.01.11/GL_S1bks_mosaic_11Jan20_16Jan20_gamma0_50m_v03.0.tif\n",
    "https://n5eil01u.ecs.nsidc.org/DP4/MEASURES/NSIDC-0723.003/2020.01.17/GL_S1bks_mosaic_17Jan20_22Jan20_gamma0_50m_v03.0.tif\n",
    "https://n5eil01u.ecs.nsidc.org/DP4/MEASURES/NSIDC-0723.003/2020.01.23/GL_S1bks_mosaic_23Jan20_28Jan20_gamma0_50m_v03.0.tif\n",
    "https://n5eil01u.ecs.nsidc.org/DP4/MEASURES/NSIDC-0723.003/2020.01.29/GL_S1bks_mosaic_29Jan20_03Feb20_gamma0_50m_v03.0.tif\n",
    "https://n5eil01u.ecs.nsidc.org/DP4/MEASURES/NSIDC-0723.003/2020.02.04/GL_S1bks_mosaic_04Feb20_09Feb20_gamma0_50m_v03.0.tif\n",
    "https://n5eil01u.ecs.nsidc.org/DP4/MEASURES/NSIDC-0723.003/2020.02.10/GL_S1bks_mosaic_10Feb20_15Feb20_gamma0_50m_v03.0.tif\n",
    "https://n5eil01u.ecs.nsidc.org/DP4/MEASURES/NSIDC-0723.003/2020.02.16/GL_S1bks_mosaic_16Feb20_21Feb20_gamma0_50m_v03.0.tif\n",
    "https://n5eil01u.ecs.nsidc.org/DP4/MEASURES/NSIDC-0723.003/2020.02.22/GL_S1bks_mosaic_22Feb20_27Feb20_gamma0_50m_v03.0.tif            \n",
    "'''\n",
    "cogs = list(cog_urls.split())"
   ]
  },
  {
   "cell_type": "code",
   "execution_count": 2,
   "metadata": {},
   "outputs": [],
   "source": [
    "import os\n",
    "os.environ['GDAL_HTTP_COOKIEFILE']='.urs_cookies' \n",
    "os.environ['GDAL_HTTP_COOKIEJAR']='.urs_cookies'\n",
    "os.environ['GDAL_DISABLE_READDIR_ON_OPEN']='EMPTY_DIR'\n",
    "os.environ['CPL_CURL_VERBOSE']='NO'"
   ]
  },
  {
   "cell_type": "code",
   "execution_count": null,
   "metadata": {},
   "outputs": [],
   "source": [
    "#check cog is valid\n",
    "%run validate_cloud_optimized_geotiff.py /vsicurl/{url}"
   ]
  },
  {
   "cell_type": "markdown",
   "metadata": {},
   "source": [
    "### GDALINFO"
   ]
  },
  {
   "cell_type": "code",
   "execution_count": null,
   "metadata": {},
   "outputs": [],
   "source": [
    "%%time\n",
    "# gdalinfo should only require 1 GET request for header:\n",
    "url = cogs[0]\n",
    "cmd = f'gdalinfo --debug on /vsicurl/{url} 2>gdal.log 1>gdal.out'\n",
    "print(cmd)\n",
    "!{cmd}"
   ]
  },
  {
   "cell_type": "code",
   "execution_count": null,
   "metadata": {},
   "outputs": [],
   "source": [
    "!grep Downloading gdal.log | wc\n",
    "!grep Downloading gdal.log"
   ]
  },
  {
   "cell_type": "code",
   "execution_count": null,
   "metadata": {},
   "outputs": [],
   "source": [
    "%%time\n",
    "# similarly, requesting the first tile of data should be a single GET request:\n",
    "# following https://trac.osgeo.org/gdal/wiki/CloudOptimizedGeoTIFF\n",
    "cmd = f'gdal_translate --debug on /vsicurl/{url} -srcwin 1024 1024 256 256 out.tif 2>gdal.log 1>gdal.out'\n",
    "print(cmd)\n",
    "!{cmd}"
   ]
  },
  {
   "cell_type": "code",
   "execution_count": null,
   "metadata": {},
   "outputs": [],
   "source": [
    "!grep Downloading gdal.log | wc\n",
    "!grep Downloading gdal.log"
   ]
  },
  {
   "cell_type": "markdown",
   "metadata": {},
   "source": [
    "#### Reconvert to COG and put on S3\n",
    "https://gdal.org/drivers/raster/cog.html\n",
    "\n",
    "`gdal_translate -of COG` will lead to the following changes (requires GDAL>3.1)\n",
    "\n",
    "1. increase geotiff version 1.0 -> 1.1 (approved nasa standard https://earthdata.nasa.gov/esdis/eso/standards-and-references/geotiff)\n",
    "1. make overviews 512x512 tiling (currently only main image is 512, overviews are 128x128)\n",
    "1. BIGTIFF=NO, currently all images are <4 Gb so BIGTIFF is not needed\n",
    "1. Ensure all IFD headers are before data (this was not a strict requirement in past, adds flags LAYOUT=IFDS_BEFORE_DATA and LAYOUT=COG in tif metadata to ensure efficient network reads)\n",
    "\n"
   ]
  },
  {
   "cell_type": "code",
   "execution_count": null,
   "metadata": {},
   "outputs": [],
   "source": [
    "!gdalinfo --version"
   ]
  },
  {
   "cell_type": "code",
   "execution_count": null,
   "metadata": {},
   "outputs": [],
   "source": [
    "#%%time\n",
    "# NOTE: when operating on entire files, generally better to download to local disk then translate it)\n",
    "# taking 9+ min, probably due to GDAL_CACHE sizes,\n",
    "# see http://osgeo-org.1560.x6.nabble.com/gdal-dev-optimal-vsicurl-settings-for-merging-range-requests-td5389484.html\n",
    "\n",
    "#output = os.path.basename(url).replace('v03.0', 'v03.1')\n",
    "#options = '-co COMPRESS=DEFLATE -co GEOTIFF_VERSION=1.1 -co BIGTIFF=NO'\n",
    "#cmd = f'gdal_translate -of COG /vsicurl/{url} {output} 2>gdal.log 1>gdal.out'\n",
    "#print(cmd)\n",
    "#!{cmd}"
   ]
  },
  {
   "cell_type": "code",
   "execution_count": null,
   "metadata": {},
   "outputs": [],
   "source": [
    "%%time\n",
    "\n",
    "cmd = f'wget -q {url}'\n",
    "print(cmd)\n",
    "!{cmd}"
   ]
  },
  {
   "cell_type": "code",
   "execution_count": null,
   "metadata": {},
   "outputs": [],
   "source": [
    "# Some command line tools for detailed COG information\n",
    "# NOTE this gives a good summary and prints IFD byte offsets - 0x10 (16) for first\n",
    "#!tiffinfo GL_S1bks_mosaic_30Dec19_04Jan20_gamma0_50m_v03.0.tif\n",
    "#GeoTiffs in particular \n",
    "#!listgeo GL_S1bks_mosaic_30Dec19_04Jan20_gamma0_50m_v03.0.tif"
   ]
  },
  {
   "cell_type": "code",
   "execution_count": null,
   "metadata": {},
   "outputs": [],
   "source": [
    "%%time\n",
    "\n",
    "filename = os.path.basename(url)\n",
    "output = filename.replace('v03.0', 'v03.1')\n",
    "options = '-co COMPRESS=DEFLATE -co GEOTIFF_VERSION=1.1 -co BIGTIFF=NO'\n",
    "cmd = f'gdal_translate {options} -of COG {filename} {output} 2>gdal.log 1>gdal.out'\n",
    "print(cmd)\n",
    "!{cmd}"
   ]
  },
  {
   "cell_type": "code",
   "execution_count": null,
   "metadata": {},
   "outputs": [],
   "source": [
    "# Convert full list of COGs\n",
    "for url in cogs:\n",
    "    os.system(f'wget {url}')\n",
    "    filename = os.path.basename(url)\n",
    "    output = filename.replace('v03.0', 'v03.1')\n",
    "    options = '-co COMPRESS=DEFLATE -co GEOTIFF_VERSION=1.1 -co BIGTIFF=NO'\n",
    "    cmd = f'gdal_translate {options} -of COG {filename} {output} 2>gdal.log 1>gdal.out'\n",
    "    print(cmd)\n",
    "    !{cmd}   "
   ]
  },
  {
   "cell_type": "code",
   "execution_count": null,
   "metadata": {},
   "outputs": [],
   "source": [
    "%%time\n",
    "\n",
    "#upload the file to S3\n",
    "cmd = f'aws s3 cp {output} s3://my-cog-server/'\n",
    "print(cmd)\n",
    "!{cmd}"
   ]
  },
  {
   "cell_type": "markdown",
   "metadata": {},
   "source": [
    "### GDALWARP"
   ]
  },
  {
   "cell_type": "code",
   "execution_count": 11,
   "metadata": {},
   "outputs": [
    {
     "name": "stdout",
     "output_type": "stream",
     "text": [
      "GDAL_DISABLE_READDIR_ON_OPEN=EMPTY_DIR GDAL_HTTP_COOKIEFILE=.urs_cookies GDAL_HTTP_COOKIEJAR=.urs_cookies GDAL_MAX_RAW_BLOCK_CACHE_SIZE=200000000 GDAL_SWATH_SIZE=200000000 VSI_CURL_CACHE_SIZE=200000000 gdalwarp --debug on -overwrite -t_srs EPSG:4326 -te -54.85 69.31 -52.18 70.26 /vsicurl/https://n5eil01u.ecs.nsidc.org/DP4/MEASURES/NSIDC-0723.003/2020.02.10/GL_S1bks_mosaic_10Feb20_15Feb20_gamma0_50m_v03.0.tif GL_S1bks_mosaic_10Feb20_15Feb20_gamma0_50m_v03.0.tif 2>gdalwarp.log 1>gdalwarp.out\n"
     ]
    }
   ],
   "source": [
    "# GDALWARP test NSIDC\n",
    "# lots of GET requests and download errors\n",
    "# actualy increases number off nsidc?! GDAL_MAX_RAW_BLOCK_CACHE_SIZE=120000000 \n",
    "#env = 'GDAL_DISABLE_READDIR_ON_OPEN=EMPTY_DIR GDAL_HTTP_COOKIEFILE=.urs_cookies GDAL_HTTP_COOKIEJAR=.urs_cookies'\n",
    "env = 'GDAL_DISABLE_READDIR_ON_OPEN=EMPTY_DIR GDAL_HTTP_COOKIEFILE=.urs_cookies GDAL_HTTP_COOKIEJAR=.urs_cookies '\n",
    "env += 'GDAL_MAX_RAW_BLOCK_CACHE_SIZE=200000000 GDAL_SWATH_SIZE=200000000 VSI_CURL_CACHE_SIZE=200000000'\n",
    "src = '/vsicurl/https://n5eil01u.ecs.nsidc.org/DP4/MEASURES/NSIDC-0723.003/2020.02.10/GL_S1bks_mosaic_10Feb20_15Feb20_gamma0_50m_v03.0.tif'\n",
    "dst = os.path.basename(src)\n",
    "cmd = f'{env} gdalwarp --debug on -overwrite -t_srs EPSG:4326 -te -54.85 69.31 -52.18 70.26 {src} {dst} 2>gdalwarp.log 1>gdalwarp.out'\n",
    "print(cmd)\n",
    "!{cmd}"
   ]
  },
  {
   "cell_type": "code",
   "execution_count": 12,
   "metadata": {},
   "outputs": [
    {
     "name": "stdout",
     "output_type": "stream",
     "text": [
      "GDAL_DISABLE_READDIR_ON_OPEN=EMPTY_DIR GDAL_HTTP_COOKIEFILE=.urs_cookies GDAL_HTTP_COOKIEJAR=.urs_cookies GDAL_MAX_RAW_BLOCK_CACHE_SIZE=200000000 GDAL_SWATH_SIZE=200000000 VSI_CURL_CACHE_SIZE=200000000 gdalwarp --debug on -overwrite -t_srs EPSG:4326 -te -54.85 69.31 -52.18 70.26 /vsicurl/https://my-cog-server.s3-us-west-2.amazonaws.com/GL_S1bks_mosaic_10Feb20_15Feb20_gamma0_50m_v03.0.tif GL_S1bks_mosaic_10Feb20_15Feb20_gamma0_50m_v03.0.tif 2>gdalwarpAWS.log 1>gdalwarpAWS.out\n"
     ]
    }
   ],
   "source": [
    "# GDALWARP 3.0 AWS (s3://my-cog-server/GL_S1bks_mosaic_13Jan15_24Jan15_gamma0_50m_v03.0.tif)\n",
    "src = '/vsicurl/https://my-cog-server.s3-us-west-2.amazonaws.com/GL_S1bks_mosaic_10Feb20_15Feb20_gamma0_50m_v03.0.tif'\n",
    "dst = os.path.basename(src)\n",
    "cmd = f'{env} gdalwarp --debug on -overwrite -t_srs EPSG:4326 -te -54.85 69.31 -52.18 70.26 {src} {dst} 2>gdalwarpAWS.log 1>gdalwarpAWS.out'\n",
    "print(cmd)\n",
    "!{cmd}"
   ]
  },
  {
   "cell_type": "code",
   "execution_count": 13,
   "metadata": {},
   "outputs": [
    {
     "name": "stdout",
     "output_type": "stream",
     "text": [
      "GDAL_DISABLE_READDIR_ON_OPEN=EMPTY_DIR GDAL_HTTP_COOKIEFILE=.urs_cookies GDAL_HTTP_COOKIEJAR=.urs_cookies GDAL_MAX_RAW_BLOCK_CACHE_SIZE=200000000 GDAL_SWATH_SIZE=200000000 VSI_CURL_CACHE_SIZE=200000000 gdalwarp --debug on -overwrite -t_srs EPSG:4326 -te -54.85 69.31 -52.18 70.26 /vsicurl/https://my-cog-server.s3-us-west-2.amazonaws.com/GL_S1bks_mosaic_10Feb20_15Feb20_gamma0_50m_v03.1.tif GL_S1bks_mosaic_10Feb20_15Feb20_gamma0_50m_v03.1.tif 2>gdalwarpAWS31.log 1>gdalwarpAWS31.out\n"
     ]
    }
   ],
   "source": [
    "# GDALWARP 3.1 AWS\n",
    "src = '/vsicurl/https://my-cog-server.s3-us-west-2.amazonaws.com/GL_S1bks_mosaic_10Feb20_15Feb20_gamma0_50m_v03.1.tif'\n",
    "dst = os.path.basename(src)\n",
    "cmd = f'{env} gdalwarp --debug on -overwrite -t_srs EPSG:4326 -te -54.85 69.31 -52.18 70.26 {src} {dst} 2>gdalwarpAWS31.log 1>gdalwarpAWS31.out'\n",
    "print(cmd)\n",
    "!{cmd}"
   ]
  },
  {
   "cell_type": "code",
   "execution_count": 14,
   "metadata": {},
   "outputs": [
    {
     "name": "stdout",
     "output_type": "stream",
     "text": [
      "      60     240   10192\n",
      "      33     132    4882\n",
      "       7      28    1036\n"
     ]
    }
   ],
   "source": [
    "# Network requests\n",
    "!grep Downloading gdalwarp.log | wc\n",
    "!grep Downloading gdalwarpAWS.log | wc\n",
    "!grep Downloading gdalwarpAWS31.log | wc"
   ]
  },
  {
   "cell_type": "markdown",
   "metadata": {},
   "source": [
    "### GDALTRANSLATE\n",
    "\n",
    "(getting 1 512x512 tile from a COG should be 2 GET requests (1 for header, 1 for data)"
   ]
  },
  {
   "cell_type": "code",
   "execution_count": 7,
   "metadata": {},
   "outputs": [],
   "source": [
    "# Test NSIDC 3.0\n",
    "# lots of GET requests and download errors\n",
    "env = 'GDAL_DISABLE_READDIR_ON_OPEN=EMPTY_DIR GDAL_HTTP_COOKIEFILE=.urs_cookies GDAL_HTTP_COOKIEJAR=.urs_cookies '\n",
    "src = '/vsicurl/https://n5eil01u.ecs.nsidc.org/DP4/MEASURES/NSIDC-0723.003/2020.02.10/GL_S1bks_mosaic_10Feb20_15Feb20_gamma0_50m_v03.0.tif'\n",
    "dst = os.path.basename(src)\n",
    "cmd = f'{env} gdal_translate --debug on -srcwin 0 0 512 512 {src} {dst} 2>gdaltranslate.log 1>gdaltranslate.out'\n",
    "!{cmd}"
   ]
  },
  {
   "cell_type": "code",
   "execution_count": 8,
   "metadata": {},
   "outputs": [],
   "source": [
    "# Test AWS 3.0\n",
    "env = 'GDAL_DISABLE_READDIR_ON_OPEN=EMPTY_DIR GDAL_HTTP_COOKIEFILE=.urs_cookies GDAL_HTTP_COOKIEJAR=.urs_cookies'\n",
    "src = '/vsicurl/https://my-cog-server.s3-us-west-2.amazonaws.com/GL_S1bks_mosaic_10Feb20_15Feb20_gamma0_50m_v03.0.tif'\n",
    "dst = os.path.basename(src)\n",
    "cmd = f'{env} gdal_translate --debug on -srcwin 0 0 512 512 {src} {dst} 2>gdaltranslateAWS.log 1>gdaltranslateAWS.out'\n",
    "!{cmd}"
   ]
  },
  {
   "cell_type": "code",
   "execution_count": 9,
   "metadata": {},
   "outputs": [],
   "source": [
    "# Test AWS 3.1\n",
    "env = 'GDAL_DISABLE_READDIR_ON_OPEN=EMPTY_DIR GDAL_HTTP_COOKIEFILE=.urs_cookies GDAL_HTTP_COOKIEJAR=.urs_cookies'\n",
    "src = '/vsicurl/https://my-cog-server.s3-us-west-2.amazonaws.com/GL_S1bks_mosaic_10Feb20_15Feb20_gamma0_50m_v03.1.tif'\n",
    "dst = os.path.basename(src)\n",
    "cmd = f'{env} gdal_translate --debug on -srcwin 0 0 512 512 {src} {dst} 2>gdaltranslateAWS31.log 1>gdaltranslateAWS31.out'\n",
    "!{cmd}"
   ]
  },
  {
   "cell_type": "code",
   "execution_count": 10,
   "metadata": {},
   "outputs": [
    {
     "name": "stdout",
     "output_type": "stream",
     "text": [
      "       7      28    1137\n",
      "       7      28     990\n",
      "       2       8     284\n"
     ]
    }
   ],
   "source": [
    "!grep Downloading gdaltranslate.log | wc\n",
    "!grep Downloading gdaltranslateAWS.log | wc\n",
    "!grep Downloading gdaltranslateAWS31.log | wc"
   ]
  },
  {
   "cell_type": "raw",
   "metadata": {},
   "source": [
    "       7      28    1137\n",
    "       7      28     990\n",
    "       2       8     284"
   ]
  },
  {
   "cell_type": "code",
   "execution_count": 19,
   "metadata": {},
   "outputs": [
    {
     "name": "stdout",
     "output_type": "stream",
     "text": [
      "CPL_VSIL_CURL_CACHE_SIZE=300000000 GDAL_SWATH_SIZE=300000000 GDAL_MAX_RAW_BLOCK_CACHE_SIZE=300000000 GDAL_DISABLE_READDIR_ON_OPEN=EMPTY_DIR GDAL_HTTP_COOKIEFILE=.urs_cookies GDAL_HTTP_COOKIEJAR=.urs_cookies gdal_translate --debug on -srcwin 0 0 29520 2560 /vsicurl/https://my-cog-server.s3-us-west-2.amazonaws.com/GL_S1bks_mosaic_10Feb20_15Feb20_gamma0_50m_v03.1.tif subset.tif 2>row.log 1>row.out\n"
     ]
    }
   ],
   "source": [
    "# try to retrive >10MB woth of pixels from 29520x53220 file\n",
    "# first 5 row tiles ~288MB *uncompressed**\n",
    "# http://osgeo-org.1560.x6.nabble.com/gdal-dev-gdalwarp-doesn-t-use-the-VSIL-curl-cache-td5391617.html\n",
    "# can also use VSI_CACHE_SIZE and VSI_CACHE=FALSE\n",
    "#GDAL_MAX_RAW_BLOCK_CACHE_SIZE=300000000 (300MB)\n",
    "# GDAL_MAX_RAW_BLOCK_CACHE_SIZE=100000000 (100MB)\n",
    "#In addition, a global least-recently-used cache of 16 MB\n",
    "# CPL_VSIL_CURL_CACHE_SIZE=160000000 #default 16MB\n",
    "\n",
    "# NOTE thes swath sizes and cache sizes must match **uncompressed** raster size\n",
    "nrows = 512*5\n",
    "env = 'CPL_VSIL_CURL_CACHE_SIZE=300000000 GDAL_SWATH_SIZE=300000000 GDAL_MAX_RAW_BLOCK_CACHE_SIZE=300000000 GDAL_DISABLE_READDIR_ON_OPEN=EMPTY_DIR GDAL_HTTP_COOKIEFILE=.urs_cookies GDAL_HTTP_COOKIEJAR=.urs_cookies'\n",
    "src = '/vsicurl/https://my-cog-server.s3-us-west-2.amazonaws.com/GL_S1bks_mosaic_10Feb20_15Feb20_gamma0_50m_v03.1.tif'\n",
    "dst = 'subset.tif'\n",
    "cmd = f'{env} gdal_translate --debug on -srcwin 0 0 29520 {nrows} {src} {dst} 2>row.log 1>row.out'\n",
    "print(cmd)\n",
    "!{cmd}"
   ]
  },
  {
   "cell_type": "code",
   "execution_count": 20,
   "metadata": {},
   "outputs": [
    {
     "name": "stdout",
     "output_type": "stream",
     "text": [
      "       2       8     284\n"
     ]
    }
   ],
   "source": [
    "!grep Downloading row.log | wc"
   ]
  },
  {
   "cell_type": "code",
   "execution_count": 18,
   "metadata": {},
   "outputs": [
    {
     "name": "stdout",
     "output_type": "stream",
     "text": [
      "-rw-r--r--  1 scott  staff   288M Oct 26 12:43 subset.tif\n"
     ]
    }
   ],
   "source": [
    "!ls -tlrh subset.tif"
   ]
  }
 ],
 "metadata": {
  "kernelspec": {
   "display_name": "Python 3",
   "language": "python",
   "name": "python3"
  },
  "language_info": {
   "codemirror_mode": {
    "name": "ipython",
    "version": 3
   },
   "file_extension": ".py",
   "mimetype": "text/x-python",
   "name": "python",
   "nbconvert_exporter": "python",
   "pygments_lexer": "ipython3",
   "version": "3.8.6"
  }
 },
 "nbformat": 4,
 "nbformat_minor": 4
}
