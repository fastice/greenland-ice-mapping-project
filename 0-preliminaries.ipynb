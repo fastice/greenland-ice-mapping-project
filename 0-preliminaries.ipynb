{
 "cells": [
  {
   "cell_type": "markdown",
   "metadata": {},
   "source": [
    "# NASA-hosted Cloud Optimized Geotiffs Demo\n",
    "\n",
    "Most datasets in NASA's archive are stored as NetCDF, HDF5, or TIFF formats. Occaisionally, NASA Distributed Active Archive Centers (DAACs) will host services such as [OpenDAP](https://earthdata.nasa.gov/collaborate/open-data-services-and-software/api/opendap) to provide server-side subsetting functionality, which becomes increasingly useful as the size and complexity of individual data files grows. These services allow users to circumvent downloading entire files, instead extracting a subregion or subset of observational variables. \n",
    "\n",
    "An alternative emerging access pattern is to use data formats that allow client-side subsetting instead of maintaining complicated server applications. [Cloud-Optimized Geotiff (COG)](https://www.cogeo.org) for example, is a format that uses internal tiling in order for client-side software libraries to retrieve only portions of a single file over a network connection. This notebook illustrates how this functionality"
   ]
  },
  {
   "cell_type": "markdown",
   "metadata": {},
   "source": [
    "### Part 1) Locate data\n",
    "\n",
    "The entire NASA archive can be programmatically searched via the [Common Metadata Repository (CMR)](https://cmr.earthdata.nasa.gov/search/site/docs/search/api.html). Anyone can search this archive, but to download files you'll need to authenticate using [NASA's Earthdata login](https://wiki.earthdata.nasa.gov/display/EL/How+To+Access+Data+With+cURL+And+Wget) (click on the link for instructions to set up a user name and password, and configure a `~/.netrc` file on your computer)\n",
    "\n",
    "\n"
   ]
  },
  {
   "cell_type": "markdown",
   "metadata": {},
   "source": [
    "We'll subset here for a MEaSURES dataset consisting of Greenland Image Mosaics form Sentinel-1A and 1-B Synthetic Aperture Radar Backscatter (https://nsidc.org/data/nsidc-0723). Note this is a large data collection (> 1000 individual files, > 1.5Tb). If you want to explore and analyze this dataset it would be inconvenient to download everything. Nevertheless, NASA happily gives you the option to do so, in the form of a download script. Let's modify that script to just get a list of URLs to COGs without downloading them:"
   ]
  },
  {
   "cell_type": "code",
   "execution_count": null,
   "metadata": {},
   "outputs": [],
   "source": [
    "# CMR API Search (Need NASA EarthdataLoging configured in .netrc file locally)\n",
    "import cmr\n",
    "\n",
    "short_name = 'NSIDC-0723'\n",
    "version = '3'\n",
    "time_start = '2015-01-01T00:00:00Z'\n",
    "time_end = '2020-10-05T15:43:33Z'\n",
    "#bounding_box = '-54.85,69.31,-52.18,70.26'\n",
    "bounding_box = None\n",
    "polygon = None\n",
    "#filename_filter = '*gamma*'\n",
    "filename_filter = None\n",
    "\n",
    "urls = cmr.get_urls(short_name, version, time_start, time_end, bounding_box, polygon, filename_filter)"
   ]
  },
  {
   "cell_type": "code",
   "execution_count": null,
   "metadata": {},
   "outputs": [],
   "source": [
    "print(f'retrieved {len(urls)} URLs')"
   ]
  },
  {
   "cell_type": "code",
   "execution_count": null,
   "metadata": {},
   "outputs": [],
   "source": [
    "# Note these URLs include JPG thumbnails, full resolution TIF, metadata in the form of XML\n",
    "urls[:5]"
   ]
  },
  {
   "cell_type": "code",
   "execution_count": null,
   "metadata": {},
   "outputs": [],
   "source": [
    "# Get URLs for all JPG thumbnails\n",
    "jpgs = [url for url in urls if url.endswith('jpg')]\n",
    "jpgs[:5]"
   ]
  },
  {
   "cell_type": "code",
   "execution_count": null,
   "metadata": {},
   "outputs": [],
   "source": [
    "# Filter out COG urls only \n",
    "cogs = [url for url in urls if url.endswith('tif')]\n",
    "print(len(cogs))\n",
    "cogs[:5]"
   ]
  },
  {
   "cell_type": "code",
   "execution_count": null,
   "metadata": {},
   "outputs": [],
   "source": [
    "# filter 'gamma', 'sigma', and 'image'\n",
    "gammas = [cog for cog in cogs if 'gamma' in cog]\n",
    "images = [cog for cog in cogs if 'image' in cog]\n",
    "sigmas = [cog for cog in cogs if 'sigma' in cog]"
   ]
  },
  {
   "cell_type": "code",
   "execution_count": null,
   "metadata": {},
   "outputs": [],
   "source": [
    "# Save these lists to a file for use later:\n",
    "with open('gamma0.txt', 'w') as f:\n",
    "    f.write('\\n'.join(gammas))"
   ]
  },
  {
   "cell_type": "code",
   "execution_count": null,
   "metadata": {},
   "outputs": [],
   "source": [
    "!head gamma0.txt"
   ]
  }
 ],
 "metadata": {
  "kernelspec": {
   "display_name": "Python 3",
   "language": "python",
   "name": "python3"
  },
  "language_info": {
   "codemirror_mode": {
    "name": "ipython",
    "version": 3
   },
   "file_extension": ".py",
   "mimetype": "text/x-python",
   "name": "python",
   "nbconvert_exporter": "python",
   "pygments_lexer": "ipython3",
   "version": "3.8.6"
  }
 },
 "nbformat": 4,
 "nbformat_minor": 4
}
