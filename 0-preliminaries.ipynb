{
 "cells": [
  {
   "cell_type": "markdown",
   "metadata": {},
   "source": [
    "# NASA-hosted Cloud Optimized Geotiffs Demo\n",
    "\n",
    "Most datasets in NASA's archive are stored as NetCDF, HDF5, or TIFF formats. Occaisionally, NASA Distributed Active Archive Centers (DAACs) will host services such as [OpenDAP](https://earthdata.nasa.gov/collaborate/open-data-services-and-software/api/opendap) to provide server-side subsetting functionality, which becomes increasingly useful as the size and complexity of individual data files grows. These services allow users to circumvent downloading entire files, instead extracting a subregion or subset of observational variables. \n",
    "\n",
    "An alternative emerging access pattern is to use data formats that allow client-side subsetting instead of maintaining complicated server applications. [Cloud-Optimized Geotiff (COG)](https://www.cogeo.org) for example, is a format that uses internal tiling in order for client-side software libraries to retrieve only portions of a single file over a network connection. This notebook illustrates how this functionality"
   ]
  },
  {
   "cell_type": "markdown",
   "metadata": {},
   "source": [
    "### Part 1) Locate data\n",
    "\n",
    "The entire NASA archive can be programmatically searched via the [Common Metadata Repository (CMR)](https://cmr.earthdata.nasa.gov/search/site/docs/search/api.html). Anyone can search this archive, but to download files you'll need to authenticate using [NASA's Earthdata login](https://wiki.earthdata.nasa.gov/display/EL/How+To+Access+Data+With+cURL+And+Wget) (click on the link for instructions to set up a user name and password, and configure a `~/.netrc` file on your computer)\n",
    "\n",
    "\n"
   ]
  },
  {
   "cell_type": "markdown",
   "metadata": {},
   "source": [
    "We'll subset here for a MEaSURES dataset consisting of Greenland Image Mosaics form Sentinel-1A and 1-B Synthetic Aperture Radar Backscatter (https://nsidc.org/data/nsidc-0723). Note this is a large data collection (> 1000 individual files, > 1.5Tb). If you want to explore and analyze this dataset it would be inconvenient to download everything. Nevertheless, NASA happily gives you the option to do so, in the form of a download script. Let's modify that script to just get a list of URLs to COGs without downloading them:"
   ]
  },
  {
   "cell_type": "code",
   "execution_count": 1,
   "metadata": {},
   "outputs": [
    {
     "name": "stdout",
     "output_type": "stream",
     "text": [
      "https://cmr.earthdata.nasa.gov/search/granules.json?provider=NSIDC_ECS&sort_key[]=start_date&sort_key[]=producer_granule_id&scroll=true&page_size=2000&short_name=NSIDC-0723&version=3&temporal[]=2015-01-01T00:00:00Z,2020-10-05T15:43:33Z\n"
     ]
    }
   ],
   "source": [
    "# CMR API Search (Need NASA EarthdataLoging configured in .netrc file locally)\n",
    "import cmr\n",
    "\n",
    "short_name = 'NSIDC-0723'\n",
    "version = '3'\n",
    "time_start = '2015-01-01T00:00:00Z'\n",
    "time_end = '2020-10-05T15:43:33Z'\n",
    "#bounding_box = '-54.85,69.31,-52.18,70.26'\n",
    "bounding_box = None\n",
    "polygon = None\n",
    "#filename_filter = '*gamma*'\n",
    "filename_filter = None\n",
    "\n",
    "urls = cmr.get_urls(short_name, version, time_start, time_end, bounding_box, polygon, filename_filter)"
   ]
  },
  {
   "cell_type": "code",
   "execution_count": 2,
   "metadata": {},
   "outputs": [
    {
     "name": "stdout",
     "output_type": "stream",
     "text": [
      "retrieved 5224 URLs\n"
     ]
    }
   ],
   "source": [
    "print(f'retrieved {len(urls)} URLs')"
   ]
  },
  {
   "cell_type": "code",
   "execution_count": 3,
   "metadata": {},
   "outputs": [
    {
     "data": {
      "text/plain": [
       "['https://n5eil01u.ecs.nsidc.org/DP4/MEASURES/NSIDC-0723.003/2015.01.01/GL_S1bks_mosaic_01Jan15_12Jan15_gamma0_500m_v03.0.jpg',\n",
       " 'https://n5eil01u.ecs.nsidc.org/DP4/MEASURES/NSIDC-0723.003/2015.01.01/GL_S1bks_mosaic_01Jan15_12Jan15_gamma0_500m_v03.0.jpg.aux.xml',\n",
       " 'https://n5eil01u.ecs.nsidc.org/DP4/MEASURES/NSIDC-0723.003/2015.01.01/GL_S1bks_mosaic_01Jan15_12Jan15_gamma0_50m_v03.0.tif',\n",
       " 'https://n5eil01u.ecs.nsidc.org/DP4/MEASURES/NSIDC-0723.003/2015.01.01/GL_S1bks_mosaic_01Jan15_12Jan15_gamma0_50m_v03.0.tif.aux.xml',\n",
       " 'https://n5eil01u.ecs.nsidc.org/DP4/MEASURES/NSIDC-0723.003/2015.01.01/GL_S1bks_mosaic_01Jan15_12Jan15_gamma0.xml']"
      ]
     },
     "execution_count": 3,
     "metadata": {},
     "output_type": "execute_result"
    }
   ],
   "source": [
    "# Note these URLs include JPG thumbnails, full resolution TIF, metadata in the form of XML\n",
    "urls[:5]"
   ]
  },
  {
   "cell_type": "code",
   "execution_count": 9,
   "metadata": {},
   "outputs": [
    {
     "data": {
      "text/plain": [
       "'https://n5eil01u.ecs.nsidc.org/DP4/MEASURES/NSIDC-0723.003/2020.02.22/GL_S1bks_mosaic_22Feb20_27Feb20_sigma0_500m_v03.0.jpg'"
      ]
     },
     "execution_count": 9,
     "metadata": {},
     "output_type": "execute_result"
    }
   ],
   "source": [
    "# Get URLs for all JPG thumbnails\n",
    "jpgs = [url for url in urls if url.endswith('jpg')]\n",
    "jpgs[-1]"
   ]
  },
  {
   "cell_type": "code",
   "execution_count": 5,
   "metadata": {},
   "outputs": [
    {
     "name": "stdout",
     "output_type": "stream",
     "text": [
      "783\n"
     ]
    },
    {
     "data": {
      "text/plain": [
       "['https://n5eil01u.ecs.nsidc.org/DP4/MEASURES/NSIDC-0723.003/2015.01.01/GL_S1bks_mosaic_01Jan15_12Jan15_gamma0_50m_v03.0.tif',\n",
       " 'https://n5eil01u.ecs.nsidc.org/DP4/MEASURES/NSIDC-0723.003/2015.01.01/GL_S1bks_mosaic_01Jan15_12Jan15_image_25m_v03.0.tif',\n",
       " 'https://n5eil01u.ecs.nsidc.org/DP4/MEASURES/NSIDC-0723.003/2015.01.01/GL_S1bks_mosaic_01Jan15_12Jan15_sigma0_50m_v03.0.tif',\n",
       " 'https://n5eil01u.ecs.nsidc.org/DP4/MEASURES/NSIDC-0723.003/2015.01.13/GL_S1bks_mosaic_13Jan15_24Jan15_gamma0_50m_v03.0.tif',\n",
       " 'https://n5eil01u.ecs.nsidc.org/DP4/MEASURES/NSIDC-0723.003/2015.01.13/GL_S1bks_mosaic_13Jan15_24Jan15_image_25m_v03.0.tif']"
      ]
     },
     "execution_count": 5,
     "metadata": {},
     "output_type": "execute_result"
    }
   ],
   "source": [
    "# Filter out COG urls only \n",
    "cogs = [url for url in urls if url.endswith('tif')]\n",
    "print(len(cogs))\n",
    "cogs[:5]"
   ]
  },
  {
   "cell_type": "code",
   "execution_count": 6,
   "metadata": {},
   "outputs": [],
   "source": [
    "# filter 'gamma', 'sigma', and 'image'\n",
    "gammas = [cog for cog in cogs if 'gamma' in cog]\n",
    "images = [cog for cog in cogs if 'image' in cog]\n",
    "sigmas = [cog for cog in cogs if 'sigma' in cog]"
   ]
  },
  {
   "cell_type": "code",
   "execution_count": 7,
   "metadata": {},
   "outputs": [],
   "source": [
    "# Save these lists to a file for use later:\n",
    "with open('gamma0.txt', 'w') as f:\n",
    "    f.write('\\n'.join(gammas))"
   ]
  },
  {
   "cell_type": "code",
   "execution_count": 8,
   "metadata": {},
   "outputs": [
    {
     "name": "stdout",
     "output_type": "stream",
     "text": [
      "https://n5eil01u.ecs.nsidc.org/DP4/MEASURES/NSIDC-0723.003/2015.01.01/GL_S1bks_mosaic_01Jan15_12Jan15_gamma0_50m_v03.0.tif\n",
      "https://n5eil01u.ecs.nsidc.org/DP4/MEASURES/NSIDC-0723.003/2015.01.13/GL_S1bks_mosaic_13Jan15_24Jan15_gamma0_50m_v03.0.tif\n",
      "https://n5eil01u.ecs.nsidc.org/DP4/MEASURES/NSIDC-0723.003/2015.01.25/GL_S1bks_mosaic_25Jan15_05Feb15_gamma0_50m_v03.0.tif\n",
      "https://n5eil01u.ecs.nsidc.org/DP4/MEASURES/NSIDC-0723.003/2015.02.06/GL_S1bks_mosaic_06Feb15_17Feb15_gamma0_50m_v03.0.tif\n",
      "https://n5eil01u.ecs.nsidc.org/DP4/MEASURES/NSIDC-0723.003/2015.02.18/GL_S1bks_mosaic_18Feb15_01Mar15_gamma0_50m_v03.0.tif\n",
      "https://n5eil01u.ecs.nsidc.org/DP4/MEASURES/NSIDC-0723.003/2015.03.02/GL_S1bks_mosaic_02Mar15_13Mar15_gamma0_50m_v03.0.tif\n",
      "https://n5eil01u.ecs.nsidc.org/DP4/MEASURES/NSIDC-0723.003/2015.03.14/GL_S1bks_mosaic_14Mar15_25Mar15_gamma0_50m_v03.0.tif\n",
      "https://n5eil01u.ecs.nsidc.org/DP4/MEASURES/NSIDC-0723.003/2015.03.26/GL_S1bks_mosaic_26Mar15_06Apr15_gamma0_50m_v03.0.tif\n",
      "https://n5eil01u.ecs.nsidc.org/DP4/MEASURES/NSIDC-0723.003/2015.04.07/GL_S1bks_mosaic_07Apr15_18Apr15_gamma0_50m_v03.0.tif\n",
      "https://n5eil01u.ecs.nsidc.org/DP4/MEASURES/NSIDC-0723.003/2015.04.19/GL_S1bks_mosaic_19Apr15_30Apr15_gamma0_50m_v03.0.tif\n"
     ]
    }
   ],
   "source": [
    "!head gamma0.txt"
   ]
  },
  {
   "cell_type": "code",
   "execution_count": null,
   "metadata": {},
   "outputs": [],
   "source": []
  }
 ],
 "metadata": {
  "kernelspec": {
   "display_name": "Python 3",
   "language": "python",
   "name": "python3"
  },
  "language_info": {
   "codemirror_mode": {
    "name": "ipython",
    "version": 3
   },
   "file_extension": ".py",
   "mimetype": "text/x-python",
   "name": "python",
   "nbconvert_exporter": "python",
   "pygments_lexer": "ipython3",
   "version": "3.8.6"
  }
 },
 "nbformat": 4,
 "nbformat_minor": 4
}
