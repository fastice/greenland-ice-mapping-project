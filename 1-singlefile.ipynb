{
 "cells": [
  {
   "cell_type": "markdown",
   "metadata": {},
   "source": [
    "# Working with individual files\n",
    "\n",
    "In `0-preliminaries.ipynb` we searched NASA's archive for Sentinel-1 backscatter imagery and saved a list of URLS. Let's now start working with a single file! \n",
    "\n",
    "Contents:\n",
    "\n",
    "* [GDAL](#GDAL-command-line-tools)\n",
    "    * [Subsetting](#subsetting)\n",
    "    * [reprojection](#reprojection)\n",
    "* [Visualization](#visualization)\n",
    "    * [rasterio](#rasterio)\n",
    "    * [xarray+holoviz](#xarray-and-holoviz)\n",
    "    * [save subset](#save-subset)"
   ]
  },
  {
   "cell_type": "markdown",
   "metadata": {},
   "source": [
    "### GDAL command line tools\n",
    "\n",
    "The [Geospatial Data Abstraction Library (GDAL)](https://gdal.org/) is foundational geospatial software that can be used to transform between formats, projections, and perform many common analysis tasks. GDAL has the ability to interact with 'Network based file systems' using an interface that transforms local file system operations to network requests, simply by prefixing the path to a file with `/vsicurl`. Read more in the [documentation](https://gdal.org/user/virtual_file_systems.html#vsicurl-http-https-ftp-files-random-access), but this is best illustrated with a simple example:"
   ]
  },
  {
   "cell_type": "code",
   "execution_count": null,
   "metadata": {},
   "outputs": [],
   "source": [
    "import os"
   ]
  },
  {
   "cell_type": "code",
   "execution_count": null,
   "metadata": {},
   "outputs": [],
   "source": [
    "with open('gamma0.txt', 'r') as f:\n",
    "    gammas = [line.rstrip() for line in f]"
   ]
  },
  {
   "cell_type": "code",
   "execution_count": null,
   "metadata": {},
   "outputs": [],
   "source": [
    "gammas[:3]"
   ]
  },
  {
   "cell_type": "code",
   "execution_count": null,
   "metadata": {},
   "outputs": [],
   "source": [
    "# It turns out GDAL Needs some environment variables set for authentication and efficiency\n",
    "# which get set here in front of the `gdalinfo` command\n",
    "env_vars = 'GDAL_DISABLE_READDIR_ON_OPEN=EMPTY_DIR GDAL_HTTP_COOKIEFILE=.urs_cookies GDAL_HTTP_COOKIEJAR=.urs_cookies'\n",
    "cog = gammas[1]\n",
    "cmd = f'{env_vars} gdalinfo /vsicurl/{cog} -approx_stats'\n",
    "print(cmd)"
   ]
  },
  {
   "cell_type": "code",
   "execution_count": null,
   "metadata": {},
   "outputs": [],
   "source": [
    "%%time\n",
    "\n",
    "!{cmd}"
   ]
  },
  {
   "cell_type": "markdown",
   "metadata": {},
   "source": [
    "### Subsetting\n",
    "\n",
    "Neat! While that particular file is big (29520x53220 pixels, over 1 Gigabyte on disk) but getting information about the projection and approximate statistics took less than 1 second. We have not downloaded anything, we are just streaming the metadata into memory. What if we'd like to download only a portion of this file rather than the whole thing? We can do this with `gdal_translate`:"
   ]
  },
  {
   "cell_type": "code",
   "execution_count": null,
   "metadata": {},
   "outputs": [],
   "source": [
    "bounding_box = '-54.85,69.31,-52.18,70.26' #West, South, East, North longitude and latitude bounds\n",
    "ulx,uly,lrx,lry = [-54.85, 70.26, -52.18, 69.31]\n",
    "src_dataset =  f'/vsicurl/{cog}'\n",
    "filename = os.path.basename(cog)\n",
    "dst_dataset = filename.replace('.tif', '_subset.tif')\n",
    "cmd = f'{env_vars} gdal_translate -projwin_srs EPSG:4326 -projwin {ulx} {uly} {lrx} {lry} {src_dataset} {dst_dataset}'\n",
    "print(cmd)"
   ]
  },
  {
   "cell_type": "code",
   "execution_count": null,
   "metadata": {},
   "outputs": [],
   "source": [
    "%%time \n",
    "\n",
    "!{cmd}"
   ]
  },
  {
   "cell_type": "code",
   "execution_count": null,
   "metadata": {},
   "outputs": [],
   "source": [
    "# Great! That only took a few seconds :) And now we can work with this local file that is of managble size\n",
    "# NOTE that we no longer need the special environment variables for reading remote NASA data\n",
    "cmd = f'gdalinfo {dst_dataset} -stats'\n",
    "print(cmd)"
   ]
  },
  {
   "cell_type": "code",
   "execution_count": null,
   "metadata": {},
   "outputs": [],
   "source": [
    "%%time \n",
    "\n",
    "!{cmd}"
   ]
  },
  {
   "cell_type": "markdown",
   "metadata": {},
   "source": [
    "### Reprojection\n",
    "\n",
    "So far we've keep the file in its original coordinate reference system [EPSG:3413](https://epsg.io/3413), or \"Polar Stereographic North\". Perhaps you want to work with unprojected latitude longitude coordinates [EPSG:4326](https://epsg.io/4326). You can use `gdalwarp` to reproject this subset on the fly and save it locally:"
   ]
  },
  {
   "cell_type": "code",
   "execution_count": null,
   "metadata": {},
   "outputs": [],
   "source": [
    "# note target extent -te has different coordinate ordering compared to the earlier -projwin option\n",
    "dstfile = dst_dataset.replace('.tif','.wgs84.tif')\n",
    "cmd = f'{env_vars} gdalwarp -overwrite -t_srs EPSG:4326 -te {ulx} {lry} {lrx} {uly} {src_dataset} {dstfile}'\n",
    "print(cmd)"
   ]
  },
  {
   "cell_type": "code",
   "execution_count": null,
   "metadata": {},
   "outputs": [],
   "source": [
    "%%time \n",
    "!{cmd}"
   ]
  },
  {
   "cell_type": "code",
   "execution_count": null,
   "metadata": {},
   "outputs": [],
   "source": [
    "!gdalinfo {dstfile}"
   ]
  },
  {
   "cell_type": "markdown",
   "metadata": {},
   "source": [
    "## Visualization\n",
    "\n",
    "So far we have not visualized any of these images! GDAL is great for command line operations and batch processing, but not visualizing results. "
   ]
  },
  {
   "cell_type": "code",
   "execution_count": null,
   "metadata": {},
   "outputs": [],
   "source": [
    "%config InlineBackend.figure_format = 'retina'\n",
    "import matplotlib.pyplot as plt\n",
    "plt.rcParams.update({'font.size': 14})\n",
    "plt.rcParams.update({'figure.figsize': (8.5,11)})"
   ]
  },
  {
   "cell_type": "markdown",
   "metadata": {},
   "source": [
    "### Rasterio\n",
    "\n",
    "There are many options in Python. We'll start with [`rasterio`](https://rasterio.readthedocs.io/en/latest/) a fantastic library that provides an intuitive Pythonic interface to GDAL and includes some convenience functions for plotting"
   ]
  },
  {
   "cell_type": "code",
   "execution_count": null,
   "metadata": {},
   "outputs": [],
   "source": [
    "# Open the JPG overview with Rasterio and plot\n",
    "import rasterio\n",
    "import rasterio.plot\n",
    "\n",
    "# Rasterio uses an environment context manager for GDAL environment variables\n",
    "Env = rasterio.Env(GDAL_DISABLE_READDIR_ON_OPEN='EMPTY_DIR',\n",
    "                   GDAL_HTTP_COOKIEFILE='.urs_cookies',\n",
    "                   GDAL_HTTP_COOKIEJAR='.urs_cookies')"
   ]
  },
  {
   "cell_type": "code",
   "execution_count": null,
   "metadata": {},
   "outputs": [],
   "source": [
    "%%time \n",
    "\n",
    "jpg = 'https://n5eil01u.ecs.nsidc.org/DP4/MEASURES/NSIDC-0723.003/2015.01.13/GL_S1bks_mosaic_13Jan15_24Jan15_gamma0_500m_v03.0.jpg'\n",
    "title = os.path.basename(jpg)\n",
    "with Env:\n",
    "    with rasterio.open(jpg) as src:\n",
    "        print(src.profile)\n",
    "        rasterio.plot.show(src, cmap='gray', title=title)"
   ]
  },
  {
   "cell_type": "code",
   "execution_count": null,
   "metadata": {},
   "outputs": [],
   "source": [
    "# Accessing the Full-resolution data is also straightforward, no need for /vsicurl/\n",
    "url = gammas[1]\n",
    "print(url)\n",
    "title = os.path.basename(url)\n",
    "with Env:\n",
    "    with rasterio.open(url) as src:\n",
    "        print(src.profile)  \n",
    "        overview_factors = [src.overviews(i) for i in src.indexes][0]\n",
    "        overview_levels = list(range(len(overview_factors)))\n",
    "        print('Overview levels: ', overview_levels)\n",
    "        print('Overview factors: ',  overview_factors) "
   ]
  },
  {
   "cell_type": "code",
   "execution_count": null,
   "metadata": {},
   "outputs": [],
   "source": [
    "# NOTE from above that overview_level=0 downsamples full-resolution by a factor of 2:\n",
    "with Env:\n",
    "    with rasterio.open(url, OVERVIEW_LEVEL=0) as src:\n",
    "        print(src.profile)"
   ]
  },
  {
   "cell_type": "code",
   "execution_count": null,
   "metadata": {},
   "outputs": [],
   "source": [
    "%%time \n",
    "\n",
    "# Plot lowest resolution overview\n",
    "with Env:\n",
    "    with rasterio.open(url, OVERVIEW_LEVEL=5) as src:\n",
    "        print(src.profile)\n",
    "        rasterio.plot.show(src, cmap='gray', title=title)"
   ]
  },
  {
   "cell_type": "markdown",
   "metadata": {},
   "source": [
    "### Xarray and Holoviz\n",
    "\n",
    "Again, there are many ways to accomplish this in Python, but we'll demonstrate a particularly powerful combination for geospatial analysis. [RioXarray](https://github.com/corteva/rioxarray) combines Xarray + Rasterio for analysis of multidimensional geospatial data. [Holoviz](https://holoviz.org/) combines various Python plotting libraries for interactive visualization in a webbrowser"
   ]
  },
  {
   "cell_type": "code",
   "execution_count": null,
   "metadata": {},
   "outputs": [],
   "source": [
    "import rioxarray as rx\n",
    "import hvplot.xarray"
   ]
  },
  {
   "cell_type": "code",
   "execution_count": null,
   "metadata": {},
   "outputs": [],
   "source": [
    "# An alternative to using rasterio.Env() is to set global environment variables:\n",
    "os.environ['GDAL_DISABLE_READDIR_ON_OPEN']='EMPTY_DIR'\n",
    "os.environ['GDAL_HTTP_COOKIEFILE']='.urs_cookies' \n",
    "os.environ['GDAL_HTTP_COOKIEJAR']='.urs_cookies'"
   ]
  },
  {
   "cell_type": "code",
   "execution_count": null,
   "metadata": {},
   "outputs": [],
   "source": [
    "%%time\n",
    "\n",
    "da = rx.open_rasterio(url, overview_level=4, masked=True).squeeze('band') #Read an overview and account for NoDATA value\n",
    "da"
   ]
  },
  {
   "cell_type": "code",
   "execution_count": null,
   "metadata": {},
   "outputs": [],
   "source": [
    "# Note this plot is interactive! You'll see coordinate and pixel values as you move the cursor, resolution updates as you zoom in\n",
    "da.hvplot.image(rasterize=True, dynamic=True, aspect='equal', frame_width=200, cmap='gray',\n",
    "                title=title)"
   ]
  },
  {
   "cell_type": "code",
   "execution_count": null,
   "metadata": {},
   "outputs": [],
   "source": [
    "# Read a subset window at full resolution\n",
    "da = rx.open_rasterio(url, masked=True).squeeze('band') \n",
    "\n",
    "# Use pixel coordinates\n",
    "subset = da.isel(x=slice(int(1e4),int(1.5e4)), y=slice(int(1e3),int(2e3)))\n",
    "subset.hvplot.image(rasterize=True, dynamic=True, frame_width=400, cmap='gray')"
   ]
  },
  {
   "cell_type": "code",
   "execution_count": null,
   "metadata": {},
   "outputs": [],
   "source": [
    "# USE EPSG:4313 coordinates (left->right, top->bottom)\n",
    "subset = da.sel(x=slice(-1.0e5, 1.0e5), y=slice(-7.5e5, -7.9e5))\n",
    "subset.hvplot.image(rasterize=True, dynamic=True, frame_width=400, cmap='gray')"
   ]
  },
  {
   "cell_type": "code",
   "execution_count": null,
   "metadata": {},
   "outputs": [],
   "source": [
    "# Reproject a small piece (preferred, more control over warp resampling, etc, dataset easier to reference)\n",
    "subset4326 = subset.rio.reproject('EPSG:4326') \n",
    "subset4326.hvplot.image(rasterize=True, dynamic=True, frame_width=400, cmap='gray')"
   ]
  },
  {
   "cell_type": "code",
   "execution_count": null,
   "metadata": {},
   "outputs": [],
   "source": [
    "# Use Basemap tiles (these are usually in a given projection to begin with)\n",
    "subset4326.hvplot.image(geo=True, tiles=True, \n",
    "                         rasterize=True, dynamic=True, frame_width=400, frame_height=400, cmap='gray')"
   ]
  },
  {
   "cell_type": "markdown",
   "metadata": {},
   "source": [
    "### Save subset\n",
    "\n",
    "Finally, we may want to save this subset we've been working with for future use "
   ]
  },
  {
   "cell_type": "code",
   "execution_count": null,
   "metadata": {},
   "outputs": [],
   "source": [
    "%%time\n",
    "\n",
    "subset.rio.to_raster('mysubset.tif', dtype='float32', driver='GTiff', COMPRESS='LZW', NUM_THREADS=4)"
   ]
  },
  {
   "cell_type": "code",
   "execution_count": null,
   "metadata": {},
   "outputs": [],
   "source": [
    "# Round trip test\n",
    "subset = rx.open_rasterio('mysubset.tif', masked=True)\n",
    "subset"
   ]
  }
 ],
 "metadata": {
  "kernelspec": {
   "display_name": "Python 3",
   "language": "python",
   "name": "python3"
  },
  "language_info": {
   "codemirror_mode": {
    "name": "ipython",
    "version": 3
   },
   "file_extension": ".py",
   "mimetype": "text/x-python",
   "name": "python",
   "nbconvert_exporter": "python",
   "pygments_lexer": "ipython3",
   "version": "3.8.6"
  }
 },
 "nbformat": 4,
 "nbformat_minor": 4
}
